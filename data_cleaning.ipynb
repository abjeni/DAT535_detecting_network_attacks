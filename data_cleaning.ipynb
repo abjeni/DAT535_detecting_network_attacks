{
 "cells": [
  {
   "cell_type": "code",
   "execution_count": 1,
   "metadata": {
    "executionInfo": {
     "elapsed": 13797,
     "status": "ok",
     "timestamp": 1728663717254,
     "user": {
      "displayName": "mohsen mohammadi",
      "userId": "07282293244384741339"
     },
     "user_tz": -120
    },
    "id": "412PEMoyvj2S"
   },
   "outputs": [],
   "source": [
    "from pyspark import SparkContext, SparkConf\n",
    "\n",
    "conf = SparkConf().setAppName(\"data cleaning\").setMaster(\"local[*]\")\n",
    "sc = SparkContext(conf=conf)"
   ]
  },
  {
   "cell_type": "markdown",
   "metadata": {
    "id": "8VTYxC0H0-fA"
   },
   "source": [
    "# Loading train and test datasets"
   ]
  },
  {
   "cell_type": "code",
   "execution_count": 2,
   "metadata": {
    "executionInfo": {
     "elapsed": 2352,
     "status": "ok",
     "timestamp": 1728663801807,
     "user": {
      "displayName": "mohsen mohammadi",
      "userId": "07282293244384741339"
     },
     "user_tz": -120
    },
    "id": "wxoOglPm03Qc"
   },
   "outputs": [],
   "source": [
    "rdd_train = sc.textFile(\"/data_serving/train_data.gz\")\n",
    "rdd_test = sc.textFile(\"/data_serving/test_data.gz\")"
   ]
  },
  {
   "cell_type": "markdown",
   "metadata": {
    "id": "ngKWDpDr1CAe"
   },
   "source": [
    "# Repartition and persist rdds in the cache"
   ]
  },
  {
   "cell_type": "code",
   "execution_count": 3,
   "metadata": {
    "colab": {
     "base_uri": "https://localhost:8080/"
    },
    "executionInfo": {
     "elapsed": 1129,
     "status": "ok",
     "timestamp": 1728663812866,
     "user": {
      "displayName": "mohsen mohammadi",
      "userId": "07282293244384741339"
     },
     "user_tz": -120
    },
    "id": "CB3qrxND1BOT",
    "outputId": "ad9e2d6f-39de-4de6-efa8-131a3a762589"
   },
   "outputs": [
    {
     "name": "stdout",
     "output_type": "stream",
     "text": [
      "4\n",
      "Number of partition for train data:  30\n",
      "Number of partition for test data:  1\n"
     ]
    },
    {
     "data": {
      "text/plain": [
       "/data_serving/test_data.gz MapPartitionsRDD[3] at textFile at NativeMethodAccessorImpl.java:0"
      ]
     },
     "execution_count": 3,
     "metadata": {},
     "output_type": "execute_result"
    }
   ],
   "source": [
    "# change number of partition for train data as it includes milion rows\n",
    "rdd_train = rdd_train.repartition(30) # shuffle all data\n",
    "print(sc.defaultParallelism)\n",
    "print(\"Number of partition for train data: \", rdd_train.getNumPartitions())\n",
    "print(\"Number of partition for test data: \", rdd_test.getNumPartitions())\n",
    "# store in cache\n",
    "rdd_train.persist()\n",
    "rdd_test.persist()"
   ]
  },
  {
   "cell_type": "markdown",
   "metadata": {
    "id": "4s14_2oN1wXp"
   },
   "source": [
    "# Count total rows in dataset"
   ]
  },
  {
   "cell_type": "code",
   "execution_count": 4,
   "metadata": {
    "colab": {
     "base_uri": "https://localhost:8080/"
    },
    "executionInfo": {
     "elapsed": 81726,
     "status": "ok",
     "timestamp": 1728663897872,
     "user": {
      "displayName": "mohsen mohammadi",
      "userId": "07282293244384741339"
     },
     "user_tz": -120
    },
    "id": "2HsoPVhK1RGO",
    "outputId": "95665603-7a07-41c6-b866-d10e9b30a053"
   },
   "outputs": [
    {
     "name": "stdout",
     "output_type": "stream",
     "text": [
      "total rows in dataset:  4898431\n",
      "total rows in test dataset:  311029\n"
     ]
    }
   ],
   "source": [
    "print(\"total rows in dataset: \", rdd_train.count())\n",
    "print(\"total rows in test dataset: \", rdd_test.count())"
   ]
  },
  {
   "cell_type": "markdown",
   "metadata": {
    "id": "8ocsg2R413jZ"
   },
   "source": [
    "# Taking 10 random samples of dataset"
   ]
  },
  {
   "cell_type": "markdown",
   "metadata": {},
   "source": [
    "### train_data"
   ]
  },
  {
   "cell_type": "code",
   "execution_count": 5,
   "metadata": {
    "colab": {
     "base_uri": "https://localhost:8080/"
    },
    "executionInfo": {
     "elapsed": 34327,
     "status": "ok",
     "timestamp": 1728664003297,
     "user": {
      "displayName": "mohsen mohammadi",
      "userId": "07282293244384741339"
     },
     "user_tz": -120
    },
    "id": "o6VOwVu-10-A",
    "outputId": "9b8b3c55-afcd-4eeb-e1f9-315144fbc3a2"
   },
   "outputs": [
    {
     "data": {
      "text/plain": [
       "['Log-- 0 tcp-http | SF { 316 } 2698 remote 0 0 0 0 login_success 0 not_root_obtained 0 0 0 0 1 0 not_host_login not_guest_login 21:21 0.00 0.00 0.00 0.00 1.00 0.00 0.00 (255:244) 0.96 0.02 0.01 0.00 0.00 0.00 0.00 0.00 <label:normal.>',\n",
       " 'Log-- 0 icmp-ecr_i | SF { 1032 } 0 remote 0 0 0 0 login_failed 0 not_root_obtained 0 0 0 0 0 0 not_host_login not_guest_login 511:511 0.00 0.00 0.00 0.00 1.00 0.00 0.00 (255:255) 1.00 0.00 1.00 0.00 0.00 0.00 0.00 0.00 <label:smurf.>',\n",
       " 'Log-- 0 icmp-ecr_i | SF { 1032 } 0 remote 0 0 0 0 login_failed 0 not_root_obtained 0 0 0 0 0 0 not_host_login not_guest_login 511:511 0.00 0.00 0.00 0.00 1.00 0.00 0.00 (255:255) 1.00 0.00 1.00 0.00 0.00 0.00 0.00 0.00 <label:smurf.>',\n",
       " 'Log-- 0 tcp-http | SF { 214 } 1941 remote 0 0 0 0 login_success 0 not_root_obtained 0 0 0 0 0 0 not_host_login not_guest_login 9:9 0.00 0.00 0.00 0.00 1.00 0.00 0.00 (9:255) 1.00 0.00 0.11 0.02 0.00 0.00 0.00 0.00 <label:normal.>',\n",
       " 'Log-- 0 icmp-ecr_i | SF { 520 } 0 remote 0 0 0 0 login_failed 0 not_root_obtained 0 0 0 0 0 0 not_host_login not_guest_login 511:511 0.00 0.00 0.00 0.00 1.00 0.00 0.00 (255:255) 1.00 0.00 1.00 0.00 0.00 0.00 0.00 0.00 <label:smurf.>',\n",
       " 'Log-- 2 tcp-smtp | SF { 1286 } 415 remote 0 0 0 0 login_success 0 not_root_obtained 0 0 0 0 0 0 not_host_login not_guest_login 1:3 0.00 0.00 0.00 0.00 1.00 0.00 1.00 (210:153) 0.60 0.02 0.00 0.01 0.00 0.00 0.00 0.00 <label:normal.>',\n",
       " 'Log-- 0 icmp-ecr_i | SF { 1032 } 0 remote 0 0 0 0 login_failed 0 not_root_obtained 0 0 0 0 0 0 not_host_login not_guest_login 511:511 0.00 0.00 0.00 0.00 1.00 0.00 0.00 (255:255) 1.00 0.00 1.00 0.00 0.00 0.00 0.00 0.00 <label:smurf.>',\n",
       " 'Log-- 0 icmp-ecr_i | SF { 1032 } 0 remote 0 0 0 0 login_failed 0 not_root_obtained 0 0 0 0 0 0 not_host_login not_guest_login 511:511 0.00 0.00 0.00 0.00 1.00 0.00 0.00 (255:255) 1.00 0.00 1.00 0.00 0.00 0.00 0.00 0.00 <label:smurf.>',\n",
       " 'Log-- 0 tcp-http | SF { 220 } 26098 remote 0 0 0 0 login_success 0 not_root_obtained 0 0 0 0 0 0 not_host_login not_guest_login 6:6 0.00 0.00 0.00 0.00 1.00 0.00 0.00 (6:255) 1.00 0.00 0.17 0.02 0.00 0.00 0.00 0.00 <label:normal.>',\n",
       " 'Log-- 0 tcp-private | REJ { 0 } 0 remote 0 0 0 0 login_failed 0 not_root_obtained 0 0 0 0 0 0 not_host_login not_guest_login 263:17 0.00 0.00 1.00 1.00 0.06 0.06 0.00 (255:17) 0.07 0.06 0.00 0.00 0.00 0.00 1.00 1.00 <label:neptune.>']"
      ]
     },
     "execution_count": 5,
     "metadata": {},
     "output_type": "execute_result"
    }
   ],
   "source": [
    "rdd_train.takeSample(withReplacement=False, num=10, seed=42)"
   ]
  },
  {
   "cell_type": "markdown",
   "metadata": {},
   "source": [
    "### test_data"
   ]
  },
  {
   "cell_type": "code",
   "execution_count": 6,
   "metadata": {},
   "outputs": [
    {
     "data": {
      "text/plain": [
       "['Log-- 0 tcp-private | REJ { 0 } 0 remote 0 0 0 0 login_failed 0 not_root_obtained 0 0 0 0 0 0 not_host_login not_guest_login 240:6 0.00 0.00 1.00 1.00 0.03 0.06 0.00 (255:6) 0.02 0.07 0.00 0.00 0.00 0.00 1.00 1.00 <label:neptune.>',\n",
       " 'Log-- 0 icmp-ecr_i | SF { 520 } 0 remote 0 0 0 0 login_failed 0 not_root_obtained 0 0 0 0 0 0 not_host_login not_guest_login 510:510 0.00 0.00 0.00 0.00 1.00 0.00 0.00 (255:255) 1.00 0.00 1.00 0.00 0.00 0.00 0.00 0.00 <label:smurf.>',\n",
       " 'Log-- 0 tcp-private | REJ { 0 } 0 remote 0 0 0 0 login_failed 0 not_root_obtained 0 0 0 0 0 0 not_host_login not_guest_login 273:13 0.00 0.00 1.00 1.00 0.05 0.06 0.00 (255:13) 0.05 0.07 0.00 0.00 0.00 0.00 1.00 1.00 <label:neptune.>',\n",
       " 'Log-- 0 icmp-ecr_i | SF { 520 } 0 remote 0 0 0 0 login_failed 0 not_root_obtained 0 0 0 0 0 0 not_host_login not_guest_login 509:509 0.00 0.00 0.00 0.00 1.00 0.00 0.00 (255:255) 1.00 0.00 1.00 0.00 0.00 0.00 0.00 0.00 <label:smurf.>',\n",
       " 'Log-- 0 icmp-ecr_i | SF { 1032 } 0 remote 0 0 0 0 login_failed 0 not_root_obtained 0 0 0 0 0 0 not_host_login not_guest_login 511:511 0.00 0.00 0.00 0.00 1.00 0.00 0.00 (255:255) 1.00 0.00 1.00 0.00 0.00 0.00 0.00 0.00 <label:smurf.>',\n",
       " 'Log-- 0 icmp-ecr_i | SF { 1032 } 0 remote 0 0 0 0 login_failed 0 not_root_obtained 0 0 0 0 0 0 not_host_login not_guest_login 511:511 0.00 0.00 0.00 0.00 1.00 0.00 0.00 (255:255) 1.00 0.00 1.00 0.00 0.00 0.00 0.00 0.00 <label:smurf.>',\n",
       " 'Log-- 0 tcp-http | SF { 243 } 4948 remote 0 0 0 0 login_success 0 not_root_obtained 0 0 0 0 0 0 not_host_login not_guest_login 5:5 0.00 0.00 0.00 0.00 1.00 0.00 0.00 (10:255) 1.00 0.00 0.10 0.02 0.00 0.00 0.00 0.00 <label:normal.>',\n",
       " 'Log-- 0 icmp-ecr_i | SF { 1032 } 0 remote 0 0 0 0 login_failed 0 not_root_obtained 0 0 0 0 0 0 not_host_login not_guest_login 511:511 0.00 0.00 0.00 0.00 1.00 0.00 0.00 (255:255) 1.00 0.00 1.00 0.00 0.00 0.00 0.00 0.00 <label:smurf.>',\n",
       " 'Log-- 0 icmp-ecr_i | SF { 1032 } 0 remote 0 0 0 0 login_failed 0 not_root_obtained 0 0 0 0 0 0 not_host_login not_guest_login 511:511 0.00 0.00 0.00 0.00 1.00 0.00 0.00 (255:255) 1.00 0.00 1.00 0.00 0.00 0.00 0.00 0.00 <label:smurf.>',\n",
       " 'Log-- 0 tcp-private | S0 { 0 } 0 remote 0 0 0 0 login_failed 0 not_root_obtained 0 0 0 0 0 0 not_host_login not_guest_login 137:9 1.00 1.00 0.00 0.00 0.07 0.07 0.00 (255:9) 0.04 0.06 0.00 0.00 1.00 1.00 0.00 0.00 <label:neptune.>']"
      ]
     },
     "execution_count": 6,
     "metadata": {},
     "output_type": "execute_result"
    }
   ],
   "source": [
    "rdd_test.takeSample(withReplacement=False, num=10, seed=42)"
   ]
  },
  {
   "cell_type": "markdown",
   "metadata": {
    "id": "l1ed80TG260O"
   },
   "source": [
    "# Metadata\n"
   ]
  },
  {
   "cell_type": "markdown",
   "metadata": {
    "id": "YPgZLD6p3Cwt"
   },
   "source": [
    "## name of features\n"
   ]
  },
  {
   "cell_type": "code",
   "execution_count": 7,
   "metadata": {
    "colab": {
     "base_uri": "https://localhost:8080/"
    },
    "executionInfo": {
     "elapsed": 737,
     "status": "ok",
     "timestamp": 1728664034534,
     "user": {
      "displayName": "mohsen mohammadi",
      "userId": "07282293244384741339"
     },
     "user_tz": -120
    },
    "id": "4av7eAlu2_0z",
    "outputId": "d38d503f-86f1-4217-ba56-49880126e3b9"
   },
   "outputs": [
    {
     "data": {
      "text/plain": [
       "42"
      ]
     },
     "execution_count": 7,
     "metadata": {},
     "output_type": "execute_result"
    }
   ],
   "source": [
    "feature_names = []\n",
    "with open(\"/home/ubuntu/kddcup.names.txt\") as f:\n",
    "  lines = f.readlines()\n",
    "  for line in lines:\n",
    "    line = line.strip()\n",
    "    if line.startswith(\"back\") or line == \"\":\n",
    "        continue\n",
    "    try:\n",
    "\n",
    "        name = line.split(\":\")[0]\n",
    "        feature_names.append(name)\n",
    "    except:\n",
    "      pass\n",
    "feature_names.append(\"label\")\n",
    "len(feature_names)"
   ]
  },
  {
   "cell_type": "code",
   "execution_count": 8,
   "metadata": {
    "colab": {
     "base_uri": "https://localhost:8080/"
    },
    "executionInfo": {
     "elapsed": 314,
     "status": "ok",
     "timestamp": 1728664035885,
     "user": {
      "displayName": "mohsen mohammadi",
      "userId": "07282293244384741339"
     },
     "user_tz": -120
    },
    "id": "yxoal2ZL_EQy",
    "outputId": "eec398d7-e1f8-4637-cb27-fe3f27143679"
   },
   "outputs": [
    {
     "data": {
      "text/plain": [
       "['duration',\n",
       " 'protocol_type',\n",
       " 'service',\n",
       " 'flag',\n",
       " 'src_bytes',\n",
       " 'dst_bytes',\n",
       " 'land',\n",
       " 'wrong_fragment',\n",
       " 'urgent',\n",
       " 'hot',\n",
       " 'num_failed_logins',\n",
       " 'logged_in',\n",
       " 'num_compromised',\n",
       " 'root_shell',\n",
       " 'su_attempted',\n",
       " 'num_root',\n",
       " 'num_file_creations',\n",
       " 'num_shells',\n",
       " 'num_access_files',\n",
       " 'num_outbound_cmds',\n",
       " 'is_host_login',\n",
       " 'is_guest_login',\n",
       " 'count',\n",
       " 'srv_count',\n",
       " 'serror_rate',\n",
       " 'srv_serror_rate',\n",
       " 'rerror_rate',\n",
       " 'srv_rerror_rate',\n",
       " 'same_srv_rate',\n",
       " 'diff_srv_rate',\n",
       " 'srv_diff_host_rate',\n",
       " 'dst_host_count',\n",
       " 'dst_host_srv_count',\n",
       " 'dst_host_same_srv_rate',\n",
       " 'dst_host_diff_srv_rate',\n",
       " 'dst_host_same_src_port_rate',\n",
       " 'dst_host_srv_diff_host_rate',\n",
       " 'dst_host_serror_rate',\n",
       " 'dst_host_srv_serror_rate',\n",
       " 'dst_host_rerror_rate',\n",
       " 'dst_host_srv_rerror_rate',\n",
       " 'label']"
      ]
     },
     "execution_count": 8,
     "metadata": {},
     "output_type": "execute_result"
    }
   ],
   "source": [
    "feature_names"
   ]
  },
  {
   "cell_type": "markdown",
   "metadata": {
    "id": "3mPCk0cw3Er6"
   },
   "source": [
    "## attack types"
   ]
  },
  {
   "cell_type": "code",
   "execution_count": 9,
   "metadata": {
    "colab": {
     "base_uri": "https://localhost:8080/"
    },
    "executionInfo": {
     "elapsed": 524,
     "status": "ok",
     "timestamp": 1728664037954,
     "user": {
      "displayName": "mohsen mohammadi",
      "userId": "07282293244384741339"
     },
     "user_tz": -120
    },
    "id": "fmXvCbE-3FRK",
    "outputId": "214a7089-064b-494b-d5a3-ce2a40aaa19d"
   },
   "outputs": [
    {
     "name": "stdout",
     "output_type": "stream",
     "text": [
      "{'dos', 'r2l', 'probe', 'u2r', 'normal'}\n",
      "['back', 'buffer_overflow', 'ftp_write', 'guess_passwd', 'imap', 'ipsweep', 'land', 'loadmodule', 'multihop', 'neptune', 'nmap', 'perl', 'phf', 'pod', 'portsweep', 'rootkit', 'satan', 'smurf', 'spy', 'teardrop', 'warezclient', 'warezmaster']\n"
     ]
    }
   ],
   "source": [
    "name_type_attack = []\n",
    "type_of_attack = set()\n",
    "\n",
    "with open(\"/home/ubuntu/training_attack_types.txt\") as f:\n",
    "  lines = f.readlines()\n",
    "  for line in lines:\n",
    "    line = line.strip()\n",
    "    try:\n",
    "      name, attack = line.split(\" \")\n",
    "      name_type_attack.append(name)\n",
    "      type_of_attack.add(attack)\n",
    "    except:\n",
    "      pass\n",
    "type_of_attack.add(\"normal\")\n",
    "print(type_of_attack)\n",
    "print(name_type_attack)"
   ]
  },
  {
   "cell_type": "markdown",
   "metadata": {
    "id": "h4yA3KMo7cLs"
   },
   "source": [
    "# Data cleaning\n",
    "\n",
    "example row: **'Log-- 0 icmp-ecr_i | SF { 1032 } 0 remote 0 0 0 0 login_failed 0 not_root_obtained 0 0 0 0 0 0 not_host_login not_guest_login 511:511 0.00 0.00 0.00 0.00 1.00 0.00 0.00 (255:255) 1.00 0.00 1.00 0.00 0.00 0.00 0.00 0.00 <label:smurf.>'**\n",
    "\n",
    "* Remove **log--** from each row\n",
    "* Remove **-** between **icmp** (protocol_type) and **ecr_i** (service). These are two seperate features according to name of features.\n",
    "* remove character **|**\n",
    "* remove all **{}** and **()** .\n",
    "* According to name of features, some of the features are boolean (0 or 1). Use map/filter/distinct/etc to check which features are boolean and replace with 0 or 1.\n",
    "* remove **:** between numbers. According to name of features, each of them is a seperate feature.\n",
    "* remove **label** and extra characters for the last feature.\n",
    "* Add comma between features"
   ]
  },
  {
   "cell_type": "markdown",
   "metadata": {
    "id": "frNykg3j93_Z"
   },
   "source": [
    "### Remove **log--**"
   ]
  },
  {
   "cell_type": "code",
   "execution_count": 10,
   "metadata": {
    "colab": {
     "base_uri": "https://localhost:8080/"
    },
    "executionInfo": {
     "elapsed": 1204,
     "status": "ok",
     "timestamp": 1728664042531,
     "user": {
      "displayName": "mohsen mohammadi",
      "userId": "07282293244384741339"
     },
     "user_tz": -120
    },
    "id": "LDHLDAyW5nMK",
    "outputId": "63651031-9d7d-4104-962a-f098e254b56b"
   },
   "outputs": [],
   "source": [
    "rdd_train = rdd_train.map(lambda x: x.replace(\"Log--\", \"\").strip())\n",
    "rdd_test = rdd_test.map(lambda x: x.replace(\"Log--\", \"\").strip())"
   ]
  },
  {
   "cell_type": "code",
   "execution_count": 11,
   "metadata": {},
   "outputs": [
    {
     "data": {
      "text/plain": [
       "['0 tcp-http | SF { 303 } 784 remote 0 0 0 0 login_success 0 not_root_obtained 0 0 0 0 0 0 not_host_login not_guest_login 5:6 0.00 0.00 0.00 0.00 1.00 0.00 0.33 (137:255) 1.00 0.00 0.01 0.02 0.00 0.00 0.00 0.00 <label:normal.>']"
      ]
     },
     "execution_count": 11,
     "metadata": {},
     "output_type": "execute_result"
    }
   ],
   "source": [
    "rdd_train.take(1)"
   ]
  },
  {
   "cell_type": "code",
   "execution_count": 12,
   "metadata": {},
   "outputs": [
    {
     "data": {
      "text/plain": [
       "['0 udp-domain_u | SF { 44 } 44 remote 0 0 0 0 login_failed 0 not_root_obtained 0 0 0 0 0 0 not_host_login not_guest_login 2:4 0.00 0.00 0.00 0.00 1.00 0.00 0.50 (255:236) 0.93 0.01 0.01 0.00 0.00 0.00 0.00 0.00 <label:normal.>']"
      ]
     },
     "execution_count": 12,
     "metadata": {},
     "output_type": "execute_result"
    }
   ],
   "source": [
    "rdd_test.take(1)"
   ]
  },
  {
   "cell_type": "markdown",
   "metadata": {
    "id": "OYQ8ji8J-U7u"
   },
   "source": [
    "### Remove **-** between **icmp** (protocol_type) and **ecr_i** (service). Remove character **|**"
   ]
  },
  {
   "cell_type": "code",
   "execution_count": 13,
   "metadata": {
    "executionInfo": {
     "elapsed": 3,
     "status": "ok",
     "timestamp": 1728664048569,
     "user": {
      "displayName": "mohsen mohammadi",
      "userId": "07282293244384741339"
     },
     "user_tz": -120
    },
    "id": "fn2RhBFl-DL8"
   },
   "outputs": [],
   "source": [
    "# solution 1\n",
    "def remove_dash(x):\n",
    "    try:\n",
    "        x = x.split(\" \")\n",
    "        protocl_type, service = x[1].split(\"-\")\n",
    "        x[1] = protocl_type\n",
    "        x[2] = service\n",
    "        return \" \".join(x)\n",
    "    except:\n",
    "        print(\"An error occured\")\n",
    "        return \" \".join(x)\n",
    "\n",
    "rdd_train = rdd_train.map(lambda x: remove_dash(x))\n",
    "rdd_test = rdd_test.map(lambda x: remove_dash(x))\n",
    "# solution 2\n",
    "# rdd = rdd.map(lambda x: x.replace(\"|\", \"\").strip())\n",
    "# rdd = rdd.map(lambda x: x.replace(\"-\", \"\"))"
   ]
  },
  {
   "cell_type": "code",
   "execution_count": 14,
   "metadata": {
    "colab": {
     "base_uri": "https://localhost:8080/"
    },
    "executionInfo": {
     "elapsed": 709,
     "status": "ok",
     "timestamp": 1728664052336,
     "user": {
      "displayName": "mohsen mohammadi",
      "userId": "07282293244384741339"
     },
     "user_tz": -120
    },
    "id": "XhXE-pjY_cRv",
    "outputId": "5d2a8348-d5fd-4f5b-8751-bfa37fce6ab9"
   },
   "outputs": [
    {
     "data": {
      "text/plain": [
       "['0 tcp http SF { 303 } 784 remote 0 0 0 0 login_success 0 not_root_obtained 0 0 0 0 0 0 not_host_login not_guest_login 5:6 0.00 0.00 0.00 0.00 1.00 0.00 0.33 (137:255) 1.00 0.00 0.01 0.02 0.00 0.00 0.00 0.00 <label:normal.>']"
      ]
     },
     "execution_count": 14,
     "metadata": {},
     "output_type": "execute_result"
    }
   ],
   "source": [
    "rdd_train.take(1)"
   ]
  },
  {
   "cell_type": "code",
   "execution_count": 15,
   "metadata": {},
   "outputs": [
    {
     "data": {
      "text/plain": [
       "['0 udp domain_u SF { 44 } 44 remote 0 0 0 0 login_failed 0 not_root_obtained 0 0 0 0 0 0 not_host_login not_guest_login 2:4 0.00 0.00 0.00 0.00 1.00 0.00 0.50 (255:236) 0.93 0.01 0.01 0.00 0.00 0.00 0.00 0.00 <label:normal.>']"
      ]
     },
     "execution_count": 15,
     "metadata": {},
     "output_type": "execute_result"
    }
   ],
   "source": [
    "rdd_test.take(1)"
   ]
  },
  {
   "cell_type": "markdown",
   "metadata": {
    "id": "t152L2GUDdAN"
   },
   "source": [
    "### remove all **{}** and **()** ."
   ]
  },
  {
   "cell_type": "code",
   "execution_count": 16,
   "metadata": {
    "executionInfo": {
     "elapsed": 238,
     "status": "ok",
     "timestamp": 1728664056653,
     "user": {
      "displayName": "mohsen mohammadi",
      "userId": "07282293244384741339"
     },
     "user_tz": -120
    },
    "id": "Gl8jyA47_-EW"
   },
   "outputs": [],
   "source": [
    "rdd_train = rdd_train.map(lambda x: x.replace(\"{\", \"\").replace(\"}\", \"\").replace(\"(\", \"\").replace(\")\", \"\"))\n",
    "rdd_test = rdd_test.map(lambda x: x.replace(\"{\", \"\").replace(\"}\", \"\").replace(\"(\", \"\").replace(\")\", \"\"))"
   ]
  },
  {
   "cell_type": "code",
   "execution_count": 17,
   "metadata": {
    "executionInfo": {
     "elapsed": 345,
     "status": "ok",
     "timestamp": 1728664057901,
     "user": {
      "displayName": "mohsen mohammadi",
      "userId": "07282293244384741339"
     },
     "user_tz": -120
    },
    "id": "_PGBKDIeD6Sc"
   },
   "outputs": [],
   "source": [
    "# remove two spaces\n",
    "rdd_train = rdd_train.map(lambda x: x.strip().replace(\"  \", \" \"))\n",
    "rdd_test = rdd_test.map(lambda x: x.strip().replace(\"  \", \" \"))"
   ]
  },
  {
   "cell_type": "code",
   "execution_count": 18,
   "metadata": {
    "colab": {
     "base_uri": "https://localhost:8080/"
    },
    "executionInfo": {
     "elapsed": 837,
     "status": "ok",
     "timestamp": 1728664059768,
     "user": {
      "displayName": "mohsen mohammadi",
      "userId": "07282293244384741339"
     },
     "user_tz": -120
    },
    "id": "lpBP5XrCD7kd",
    "outputId": "ff7d552d-db8a-4222-8d97-68d1e14eac9d"
   },
   "outputs": [
    {
     "data": {
      "text/plain": [
       "['0 tcp http SF 303 784 remote 0 0 0 0 login_success 0 not_root_obtained 0 0 0 0 0 0 not_host_login not_guest_login 5:6 0.00 0.00 0.00 0.00 1.00 0.00 0.33 137:255 1.00 0.00 0.01 0.02 0.00 0.00 0.00 0.00 <label:normal.>']"
      ]
     },
     "execution_count": 18,
     "metadata": {},
     "output_type": "execute_result"
    }
   ],
   "source": [
    "rdd_train.take(1)"
   ]
  },
  {
   "cell_type": "code",
   "execution_count": 19,
   "metadata": {},
   "outputs": [
    {
     "data": {
      "text/plain": [
       "['0 udp domain_u SF 44 44 remote 0 0 0 0 login_failed 0 not_root_obtained 0 0 0 0 0 0 not_host_login not_guest_login 2:4 0.00 0.00 0.00 0.00 1.00 0.00 0.50 255:236 0.93 0.01 0.01 0.00 0.00 0.00 0.00 0.00 <label:normal.>']"
      ]
     },
     "execution_count": 19,
     "metadata": {},
     "output_type": "execute_result"
    }
   ],
   "source": [
    "rdd_test.take(1)"
   ]
  },
  {
   "cell_type": "markdown",
   "metadata": {
    "id": "6fVmcqQfdhJW"
   },
   "source": [
    "### Features with boolean type\n",
    "\n",
    "Columns with indices (6, 11, 13, 20, 21) seem to have only two possible values."
   ]
  },
  {
   "cell_type": "code",
   "execution_count": 20,
   "metadata": {
    "colab": {
     "base_uri": "https://localhost:8080/"
    },
    "executionInfo": {
     "elapsed": 163571,
     "status": "ok",
     "timestamp": 1728664231068,
     "user": {
      "displayName": "mohsen mohammadi",
      "userId": "07282293244384741339"
     },
     "user_tz": -120
    },
    "id": "hcDPPq4vfiKV",
    "outputId": "bfd9ca09-11c6-49e9-d970-2f1690dde465"
   },
   "outputs": [
    {
     "name": "stdout",
     "output_type": "stream",
     "text": [
      "CPU times: user 24.4 ms, sys: 6.15 ms, total: 30.6 ms\n",
      "Wall time: 15.8 s\n"
     ]
    },
    {
     "data": {
      "text/plain": [
       "defaultdict(int, {20: 2, 21: 2, 11: 2, 6: 2, 13: 2})"
      ]
     },
     "execution_count": 20,
     "metadata": {},
     "output_type": "execute_result"
    }
   ],
   "source": [
    "%%time\n",
    "# Check columns [6, 11, 13, 20, 21] have only two unique values\n",
    "rdd_train.map(lambda x: x.split(\" \")).flatMap(lambda x: [(i, x[i]) for i in [6, 11, 13, 20, 21]]).distinct().countByKey()"
   ]
  },
  {
   "cell_type": "code",
   "execution_count": 21,
   "metadata": {},
   "outputs": [
    {
     "name": "stdout",
     "output_type": "stream",
     "text": [
      "CPU times: user 12 ms, sys: 1.12 ms, total: 13.1 ms\n",
      "Wall time: 3.87 s\n"
     ]
    },
    {
     "data": {
      "text/plain": [
       "defaultdict(int, {6: 2, 11: 2, 13: 2, 20: 2, 21: 2})"
      ]
     },
     "execution_count": 21,
     "metadata": {},
     "output_type": "execute_result"
    }
   ],
   "source": [
    "%%time\n",
    "# Check columns [6, 11, 13, 20, 21] have only two unique values\n",
    "rdd_test.map(lambda x: x.split(\" \")).flatMap(lambda x: [(i, x[i]) for i in [6, 11, 13, 20, 21]]).distinct().countByKey()"
   ]
  },
  {
   "cell_type": "markdown",
   "metadata": {
    "id": "S0MGPTiI7zaz"
   },
   "source": [
    "### Replace with 0 and 1"
   ]
  },
  {
   "cell_type": "code",
   "execution_count": 22,
   "metadata": {
    "colab": {
     "base_uri": "https://localhost:8080/"
    },
    "executionInfo": {
     "elapsed": 267,
     "status": "ok",
     "timestamp": 1728664253391,
     "user": {
      "displayName": "mohsen mohammadi",
      "userId": "07282293244384741339"
     },
     "user_tz": -120
    },
    "id": "45dChpmclUtG",
    "outputId": "07f50a6a-c2da-40fa-8bdb-37cc01e37960"
   },
   "outputs": [
    {
     "data": {
      "text/plain": [
       "PythonRDD[32] at RDD at PythonRDD.scala:53"
      ]
     },
     "execution_count": 22,
     "metadata": {},
     "output_type": "execute_result"
    }
   ],
   "source": [
    "# example row: '0 tcp http SF 213 1415 remote 0 0 0 0 login_success 0 not_root_obtained 0 0 0 0 0 0 not_host_login not_guest_login 2:14 0.00 0.00 0.00 0.00 1.00 0.00 0.14 27:33 1.00 0.00 0.04 0.06 0.00 0.00 0.00 0.00 <label:normal.>'\n",
    "\n",
    "def replace_with_0_and_1(x):\n",
    "    x = x.split(\" \")\n",
    "    x[6] = str(0) if x[6] == \"remote\" else str(1)\n",
    "    x[11] = str(1) if x[11] == \"login_success\" else str(0)\n",
    "    x[13] = str(0) if x[13] == \"not_root_obtained\" else str(1)\n",
    "    x[20] = str(0) if x[20] == \"not_host_login\" else str(1)\n",
    "    x[21] = str(0) if x[21] == \"not_guest_login\" else str(1)\n",
    "    return \" \".join(x)\n",
    "\n",
    "\n",
    "\n",
    "rdd_train_replaced = rdd_train.map(lambda x: replace_with_0_and_1(x))\n",
    "rdd_train_replaced.persist()\n",
    "rdd_test_replaced = rdd_test.map(lambda x: replace_with_0_and_1(x))\n",
    "rdd_test_replaced.persist()"
   ]
  },
  {
   "cell_type": "code",
   "execution_count": 23,
   "metadata": {
    "colab": {
     "base_uri": "https://localhost:8080/"
    },
    "executionInfo": {
     "elapsed": 6581,
     "status": "ok",
     "timestamp": 1728664262639,
     "user": {
      "displayName": "mohsen mohammadi",
      "userId": "07282293244384741339"
     },
     "user_tz": -120
    },
    "id": "mHsnw3D1-lQT",
    "outputId": "e5d198a6-520d-4ec2-b2bc-b02026ba7570"
   },
   "outputs": [
    {
     "data": {
      "text/plain": [
       "['0 tcp http SF 303 784 0 0 0 0 0 1 0 0 0 0 0 0 0 0 0 0 5:6 0.00 0.00 0.00 0.00 1.00 0.00 0.33 137:255 1.00 0.00 0.01 0.02 0.00 0.00 0.00 0.00 <label:normal.>']"
      ]
     },
     "execution_count": 23,
     "metadata": {},
     "output_type": "execute_result"
    }
   ],
   "source": [
    "rdd_train_replaced.take(1)"
   ]
  },
  {
   "cell_type": "code",
   "execution_count": 24,
   "metadata": {},
   "outputs": [
    {
     "data": {
      "text/plain": [
       "['0 udp domain_u SF 44 44 0 0 0 0 0 0 0 0 0 0 0 0 0 0 0 0 2:4 0.00 0.00 0.00 0.00 1.00 0.00 0.50 255:236 0.93 0.01 0.01 0.00 0.00 0.00 0.00 0.00 <label:normal.>']"
      ]
     },
     "execution_count": 24,
     "metadata": {},
     "output_type": "execute_result"
    }
   ],
   "source": [
    "rdd_test_replaced.take(1)"
   ]
  },
  {
   "cell_type": "markdown",
   "metadata": {
    "id": "9nBCduqrApRv"
   },
   "source": [
    "### Remove all **(:)** for each row"
   ]
  },
  {
   "cell_type": "code",
   "execution_count": 25,
   "metadata": {
    "executionInfo": {
     "elapsed": 430,
     "status": "ok",
     "timestamp": 1728664268951,
     "user": {
      "displayName": "mohsen mohammadi",
      "userId": "07282293244384741339"
     },
     "user_tz": -120
    },
    "id": "-8XFPDPh-rEi"
   },
   "outputs": [],
   "source": [
    "rdd_train_replaced = rdd_train_replaced.map(lambda x: x.replace(\":\", \" \"))\n",
    "rdd_test_replaced = rdd_test_replaced.map(lambda x: x.replace(\":\", \" \"))"
   ]
  },
  {
   "cell_type": "code",
   "execution_count": 26,
   "metadata": {
    "colab": {
     "base_uri": "https://localhost:8080/"
    },
    "executionInfo": {
     "elapsed": 1015,
     "status": "ok",
     "timestamp": 1728664270891,
     "user": {
      "displayName": "mohsen mohammadi",
      "userId": "07282293244384741339"
     },
     "user_tz": -120
    },
    "id": "_400kezABBuS",
    "outputId": "61d19266-f42a-4258-893f-07b5d6eece18"
   },
   "outputs": [
    {
     "data": {
      "text/plain": [
       "['0 tcp http SF 303 784 0 0 0 0 0 1 0 0 0 0 0 0 0 0 0 0 5 6 0.00 0.00 0.00 0.00 1.00 0.00 0.33 137 255 1.00 0.00 0.01 0.02 0.00 0.00 0.00 0.00 <label normal.>']"
      ]
     },
     "execution_count": 26,
     "metadata": {},
     "output_type": "execute_result"
    }
   ],
   "source": [
    "rdd_train_replaced.take(1)"
   ]
  },
  {
   "cell_type": "code",
   "execution_count": 27,
   "metadata": {},
   "outputs": [
    {
     "data": {
      "text/plain": [
       "['0 udp domain_u SF 44 44 0 0 0 0 0 0 0 0 0 0 0 0 0 0 0 0 2 4 0.00 0.00 0.00 0.00 1.00 0.00 0.50 255 236 0.93 0.01 0.01 0.00 0.00 0.00 0.00 0.00 <label normal.>']"
      ]
     },
     "execution_count": 27,
     "metadata": {},
     "output_type": "execute_result"
    }
   ],
   "source": [
    "rdd_test_replaced.take(1)"
   ]
  },
  {
   "cell_type": "markdown",
   "metadata": {
    "id": "dTSeq44QIHBg"
   },
   "source": [
    "### Remove **label** and extra characters around last feature"
   ]
  },
  {
   "cell_type": "code",
   "execution_count": 28,
   "metadata": {
    "executionInfo": {
     "elapsed": 411,
     "status": "ok",
     "timestamp": 1728664279397,
     "user": {
      "displayName": "mohsen mohammadi",
      "userId": "07282293244384741339"
     },
     "user_tz": -120
    },
    "id": "apbp-sDxBDQJ"
   },
   "outputs": [],
   "source": [
    "import re\n",
    "\n",
    "rdd_train_replaced = rdd_train_replaced.map(lambda row: re.sub(r'<label\\s+(\\w+)\\.>', r'\\1', row))\n",
    "rdd_test_replaced = rdd_test_replaced.map(lambda row: re.sub(r'<label\\s+(\\w+)\\.>', r'\\1', row))"
   ]
  },
  {
   "cell_type": "code",
   "execution_count": 29,
   "metadata": {
    "colab": {
     "base_uri": "https://localhost:8080/"
    },
    "executionInfo": {
     "elapsed": 427093,
     "status": "ok",
     "timestamp": 1728664707755,
     "user": {
      "displayName": "mohsen mohammadi",
      "userId": "07282293244384741339"
     },
     "user_tz": -120
    },
    "id": "UyuZvCcJCHCL",
    "outputId": "9df7289a-e712-4e60-a5ff-77cfe827a32b"
   },
   "outputs": [
    {
     "data": {
      "text/plain": [
       "['0 tcp efs REJ 0 0 0 0 0 0 0 0 0 0 0 0 0 0 0 0 0 0 149 20 0.00 0.00 1.00 1.00 0.13 0.05 0.00 255 20 0.08 0.06 0.00 0.00 0.00 0.00 1.00 1.00 neptune',\n",
       " '0 tcp http SF 252 176 0 0 0 0 0 1 0 0 0 0 0 0 0 0 0 0 1 2 0.00 0.00 0.00 0.00 1.00 0.00 1.00 255 255 1.00 0.00 0.00 0.00 0.00 0.00 0.00 0.00 normal',\n",
       " '0 icmp ecr_i SF 1032 0 0 0 0 0 0 0 0 0 0 0 0 0 0 0 0 0 511 511 0.00 0.00 0.00 0.00 1.00 0.00 0.00 255 255 1.00 0.00 1.00 0.00 0.00 0.00 0.00 0.00 smurf',\n",
       " '0 tcp private REJ 0 0 0 0 0 0 0 0 0 0 0 0 0 0 0 0 0 0 212 6 0.00 0.00 1.00 1.00 0.03 0.07 0.00 255 6 0.02 0.07 0.00 0.00 0.00 0.00 1.00 1.00 neptune',\n",
       " '0 udp private SF 105 0 0 0 0 0 0 0 0 0 0 0 0 0 0 0 0 0 1 1 0.00 0.00 0.00 0.00 1.00 0.00 0.00 255 241 0.95 0.01 0.00 0.00 0.00 0.00 0.00 0.00 normal',\n",
       " '0 tcp http REJ 0 0 0 0 0 0 0 0 0 0 0 0 0 0 0 0 0 0 1 1 0.00 0.00 1.00 1.00 1.00 0.00 0.00 53 210 1.00 0.00 0.02 0.10 0.00 0.00 1.00 1.00 normal',\n",
       " '0 tcp private S0 0 0 0 0 0 0 0 0 0 0 0 0 0 0 0 0 0 0 121 20 1.00 1.00 0.00 0.00 0.17 0.06 0.00 255 5 0.02 0.07 0.00 0.00 1.00 1.00 0.00 0.00 neptune',\n",
       " '0 icmp ecr_i SF 520 0 0 0 0 0 0 0 0 0 0 0 0 0 0 0 0 0 478 478 0.00 0.00 0.00 0.00 1.00 0.00 0.00 255 255 1.00 0.00 1.00 0.00 0.00 0.00 0.00 0.00 smurf',\n",
       " '0 icmp ecr_i SF 1032 0 0 0 0 0 0 0 0 0 0 0 0 0 0 0 0 0 511 511 0.00 0.00 0.00 0.00 1.00 0.00 0.00 255 255 1.00 0.00 1.00 0.00 0.00 0.00 0.00 0.00 smurf',\n",
       " '0 icmp ecr_i SF 1032 0 0 0 0 0 0 0 0 0 0 0 0 0 0 0 0 0 511 511 0.00 0.00 0.00 0.00 1.00 0.00 0.00 255 255 1.00 0.00 1.00 0.00 0.00 0.00 0.00 0.00 smurf']"
      ]
     },
     "execution_count": 29,
     "metadata": {},
     "output_type": "execute_result"
    }
   ],
   "source": [
    "# train data\n",
    "rdd_train_replaced.takeSample(False, 10)"
   ]
  },
  {
   "cell_type": "code",
   "execution_count": 30,
   "metadata": {
    "colab": {
     "base_uri": "https://localhost:8080/"
    },
    "executionInfo": {
     "elapsed": 309,
     "status": "ok",
     "timestamp": 1728664797767,
     "user": {
      "displayName": "mohsen mohammadi",
      "userId": "07282293244384741339"
     },
     "user_tz": -120
    },
    "id": "c59hKSNYcyOB",
    "outputId": "1cf1b41d-da2e-4db2-d2b7-729c6bd6f031"
   },
   "outputs": [
    {
     "data": {
      "text/plain": [
       "['0 icmp ecr_i SF 1032 0 0 0 0 0 0 0 0 0 0 0 0 0 0 0 0 0 511 511 0.00 0.00 0.00 0.00 1.00 0.00 0.00 255 255 1.00 0.00 1.00 0.00 0.00 0.00 0.00 0.00 smurf',\n",
       " '0 tcp http SF 218 8899 0 0 0 0 0 1 0 0 0 0 0 0 0 0 0 0 1 1 0.00 0.00 0.00 0.00 1.00 0.00 0.00 213 255 1.00 0.00 0.00 0.02 0.00 0.00 0.00 0.00 normal',\n",
       " '0 tcp private REJ 0 0 0 0 0 0 0 0 0 0 0 0 0 0 0 0 0 0 143 10 0.00 0.00 1.00 1.00 0.07 0.06 0.00 255 10 0.04 0.05 0.00 0.00 0.00 0.00 1.00 1.00 neptune',\n",
       " '0 tcp private REJ 0 0 0 0 0 0 0 0 0 0 0 0 0 0 0 0 0 0 199 4 0.02 0.00 0.98 1.00 0.02 0.07 0.00 255 4 0.02 0.07 0.00 0.00 0.01 0.00 0.99 1.00 neptune',\n",
       " '0 icmp ecr_i SF 520 0 0 0 0 0 0 0 0 0 0 0 0 0 0 0 0 0 511 511 0.00 0.00 0.00 0.00 1.00 0.00 0.00 255 255 1.00 0.00 1.00 0.00 0.00 0.00 0.00 0.00 smurf',\n",
       " '0 icmp ecr_i SF 520 0 0 0 0 0 0 0 0 0 0 0 0 0 0 0 0 0 511 511 0.00 0.00 0.00 0.00 1.00 0.00 0.00 255 255 1.00 0.00 1.00 0.00 0.00 0.00 0.00 0.00 smurf',\n",
       " '0 icmp ecr_i SF 1032 0 0 0 0 0 0 0 0 0 0 0 0 0 0 0 0 0 511 511 0.00 0.00 0.00 0.00 1.00 0.00 0.00 255 255 1.00 0.00 1.00 0.00 0.00 0.00 0.00 0.00 smurf',\n",
       " '0 udp private SF 105 147 0 0 0 0 0 0 0 0 0 0 0 0 0 0 0 0 1 1 0.00 0.00 0.00 0.00 1.00 0.00 0.00 255 252 0.99 0.01 0.00 0.00 0.00 0.00 0.00 0.00 snmpgetattack',\n",
       " '0 icmp ecr_i SF 520 0 0 0 0 0 0 0 0 0 0 0 0 0 0 0 0 0 511 511 0.00 0.00 0.00 0.00 1.00 0.00 0.00 255 255 1.00 0.00 1.00 0.00 0.00 0.00 0.00 0.00 smurf',\n",
       " '0 udp private SF 105 147 0 0 0 0 0 0 0 0 0 0 0 0 0 0 0 0 1 1 0.00 0.00 0.00 0.00 1.00 0.00 0.00 255 255 1.00 0.00 0.00 0.00 0.00 0.00 0.00 0.00 normal']"
      ]
     },
     "execution_count": 30,
     "metadata": {},
     "output_type": "execute_result"
    }
   ],
   "source": [
    "# test data\n",
    "rdd_test_replaced.takeSample(False, 10)"
   ]
  },
  {
   "cell_type": "markdown",
   "metadata": {
    "id": "NjN50MFLPI0f"
   },
   "source": [
    "### Add comma between features"
   ]
  },
  {
   "cell_type": "code",
   "execution_count": 31,
   "metadata": {
    "executionInfo": {
     "elapsed": 261,
     "status": "ok",
     "timestamp": 1728666690996,
     "user": {
      "displayName": "mohsen mohammadi",
      "userId": "07282293244384741339"
     },
     "user_tz": -120
    },
    "id": "DnmVTGOtPIbT"
   },
   "outputs": [],
   "source": [
    "rdd_train_replaced = rdd_train_replaced.map(lambda x: x.replace(\" \", \",\"))\n",
    "rdd_test_replaced = rdd_test_replaced.map(lambda x: x.replace(\" \", \",\"))"
   ]
  },
  {
   "cell_type": "code",
   "execution_count": 32,
   "metadata": {
    "colab": {
     "base_uri": "https://localhost:8080/"
    },
    "executionInfo": {
     "elapsed": 39162,
     "status": "ok",
     "timestamp": 1728666731393,
     "user": {
      "displayName": "mohsen mohammadi",
      "userId": "07282293244384741339"
     },
     "user_tz": -120
    },
    "id": "Uhy1PaGODQFV",
    "outputId": "2287fe3c-69ac-49bd-c591-aeb8e14af1bf"
   },
   "outputs": [
    {
     "data": {
      "text/plain": [
       "['0,tcp,http,SF,303,784,0,0,0,0,0,1,0,0,0,0,0,0,0,0,0,0,5,6,0.00,0.00,0.00,0.00,1.00,0.00,0.33,137,255,1.00,0.00,0.01,0.02,0.00,0.00,0.00,0.00,normal']"
      ]
     },
     "execution_count": 32,
     "metadata": {},
     "output_type": "execute_result"
    }
   ],
   "source": [
    "rdd_train_replaced.take(1)"
   ]
  },
  {
   "cell_type": "code",
   "execution_count": 33,
   "metadata": {},
   "outputs": [
    {
     "data": {
      "text/plain": [
       "['0,udp,domain_u,SF,44,44,0,0,0,0,0,0,0,0,0,0,0,0,0,0,0,0,2,4,0.00,0.00,0.00,0.00,1.00,0.00,0.50,255,236,0.93,0.01,0.01,0.00,0.00,0.00,0.00,0.00,normal']"
      ]
     },
     "execution_count": 33,
     "metadata": {},
     "output_type": "execute_result"
    }
   ],
   "source": [
    "rdd_test_replaced.take(1)"
   ]
  },
  {
   "cell_type": "markdown",
   "metadata": {},
   "source": [
    "## Count amount of each label"
   ]
  },
  {
   "cell_type": "markdown",
   "metadata": {},
   "source": [
    "### train dataset"
   ]
  },
  {
   "cell_type": "code",
   "execution_count": 34,
   "metadata": {},
   "outputs": [
    {
     "name": "stdout",
     "output_type": "stream",
     "text": [
      "Label: portsweep ------ Count: 10413\n",
      "Label: neptune ------ Count: 1072017\n",
      "Label: pod ------ Count: 264\n",
      "Label: ftp_write ------ Count: 8\n",
      "Label: teardrop ------ Count: 979\n",
      "Label: perl ------ Count: 3\n",
      "Label: warezclient ------ Count: 1020\n",
      "Label: warezmaster ------ Count: 20\n",
      "Label: guess_passwd ------ Count: 53\n",
      "Label: smurf ------ Count: 2807886\n",
      "Label: ipsweep ------ Count: 12481\n",
      "Label: spy ------ Count: 2\n",
      "Label: nmap ------ Count: 2316\n",
      "Label: loadmodule ------ Count: 9\n",
      "Label: normal ------ Count: 972781\n",
      "Label: rootkit ------ Count: 10\n",
      "Label: multihop ------ Count: 7\n",
      "Label: back ------ Count: 2203\n",
      "Label: land ------ Count: 21\n",
      "Label: imap ------ Count: 12\n",
      "Label: satan ------ Count: 15892\n",
      "Label: phf ------ Count: 4\n",
      "Label: buffer_overflow ------ Count: 30\n"
     ]
    }
   ],
   "source": [
    "labels_train = rdd_train_replaced.map(lambda row: row.split(\",\")[-1])\n",
    "\n",
    "label_train_pairs = labels_train.map(lambda label: (label, 1))\n",
    "\n",
    "label_train_counts = label_train_pairs.reduceByKey(lambda x, y: x + y)\n",
    "\n",
    "result_train = label_train_counts.collect()\n",
    "\n",
    "for label, count in result_train:\n",
    "    print(f\"Label: {label} ------ Count: {count}\")"
   ]
  },
  {
   "cell_type": "markdown",
   "metadata": {},
   "source": [
    "### test dataset"
   ]
  },
  {
   "cell_type": "code",
   "execution_count": 35,
   "metadata": {},
   "outputs": [
    {
     "name": "stdout",
     "output_type": "stream",
     "text": [
      "Label: normal ------ Count: 60593\n",
      "Label: snmpgetattack ------ Count: 7741\n",
      "Label: smurf ------ Count: 164091\n",
      "Label: ipsweep ------ Count: 306\n",
      "Label: saint ------ Count: 736\n",
      "Label: portsweep ------ Count: 354\n",
      "Label: apache2 ------ Count: 794\n",
      "Label: warezmaster ------ Count: 1602\n",
      "Label: guess_passwd ------ Count: 4367\n",
      "Label: satan ------ Count: 1633\n",
      "Label: processtable ------ Count: 759\n",
      "Label: mscan ------ Count: 1053\n",
      "Label: httptunnel ------ Count: 158\n",
      "Label: neptune ------ Count: 58001\n",
      "Label: mailbomb ------ Count: 5000\n",
      "Label: rootkit ------ Count: 13\n",
      "Label: pod ------ Count: 87\n",
      "Label: phf ------ Count: 2\n",
      "Label: snmpguess ------ Count: 2406\n",
      "Label: teardrop ------ Count: 12\n",
      "Label: back ------ Count: 1098\n",
      "Label: multihop ------ Count: 18\n",
      "Label: xterm ------ Count: 13\n",
      "Label: nmap ------ Count: 84\n",
      "Label: xlock ------ Count: 9\n",
      "Label: xsnoop ------ Count: 4\n",
      "Label: named ------ Count: 17\n",
      "Label: buffer_overflow ------ Count: 22\n",
      "Label: worm ------ Count: 2\n",
      "Label: sendmail ------ Count: 17\n",
      "Label: land ------ Count: 9\n",
      "Label: perl ------ Count: 2\n",
      "Label: ftp_write ------ Count: 3\n",
      "Label: sqlattack ------ Count: 2\n",
      "Label: ps ------ Count: 16\n",
      "Label: imap ------ Count: 1\n",
      "Label: loadmodule ------ Count: 2\n",
      "Label: udpstorm ------ Count: 2\n"
     ]
    }
   ],
   "source": [
    "labels_test = rdd_test_replaced.map(lambda row: row.split(\",\")[-1])\n",
    "\n",
    "label_test_pairs = labels_test.map(lambda label: (label, 1))\n",
    "\n",
    "label_test_counts = label_test_pairs.reduceByKey(lambda x, y: x + y)\n",
    "\n",
    "result_test = label_test_counts.collect()\n",
    "\n",
    "for label, count in result_test:\n",
    "    print(f\"Label: {label} ------ Count: {count}\")"
   ]
  },
  {
   "cell_type": "markdown",
   "metadata": {},
   "source": [
    "### Labels in test and train data dont match. Test data has additional labels which are not in train data. \n",
    "### We remove these extra labels in test data and keep only labels that exist in both dataset."
   ]
  },
  {
   "cell_type": "code",
   "execution_count": 36,
   "metadata": {},
   "outputs": [],
   "source": [
    "name_type_attack.append(\"normal\")\n",
    "def filter_labels(x):\n",
    "    label = x.split(\",\")[-1]\n",
    "    if label in name_type_attack:\n",
    "        return True\n",
    "    else:\n",
    "        return False\n",
    "\n",
    "test_data_filtered = rdd_test_replaced.filter(lambda x: filter_labels(x))"
   ]
  },
  {
   "cell_type": "code",
   "execution_count": 37,
   "metadata": {},
   "outputs": [
    {
     "data": {
      "text/plain": [
       "['0,icmp,ecr_i,SF,1032,0,0,0,0,0,0,0,0,0,0,0,0,0,0,0,0,0,510,510,0.00,0.00,0.00,0.00,1.00,0.00,0.00,255,254,1.00,0.01,1.00,0.00,0.00,0.00,0.00,0.00,smurf',\n",
       " '0,tcp,private,S0,0,0,0,0,0,0,0,0,0,0,0,0,0,0,0,0,0,0,134,18,1.00,1.00,0.00,0.00,0.13,0.05,0.00,255,18,0.07,0.05,0.00,0.00,1.00,1.00,0.00,0.00,neptune',\n",
       " '0,icmp,ecr_i,SF,1032,0,0,0,0,0,0,0,0,0,0,0,0,0,0,0,0,0,511,511,0.00,0.00,0.00,0.00,1.00,0.00,0.00,255,255,1.00,0.00,1.00,0.00,0.00,0.00,0.00,0.00,smurf',\n",
       " '0,icmp,ecr_i,SF,520,0,0,0,0,0,0,0,0,0,0,0,0,0,0,0,0,0,511,511,0.00,0.00,0.00,0.00,1.00,0.00,0.00,255,255,1.00,0.00,1.00,0.00,0.00,0.00,0.00,0.00,smurf',\n",
       " '0,icmp,ecr_i,SF,1032,0,0,0,0,0,0,0,0,0,0,0,0,0,0,0,0,0,511,511,0.00,0.00,0.00,0.00,1.00,0.00,0.00,255,255,1.00,0.00,1.00,0.00,0.00,0.00,0.00,0.00,smurf',\n",
       " '0,tcp,http,SF,252,1483,0,0,0,0,0,1,0,0,0,0,0,0,0,0,0,0,1,1,0.00,0.00,0.00,0.00,1.00,0.00,0.00,159,255,1.00,0.00,0.01,0.02,0.00,0.00,0.00,0.00,normal',\n",
       " '0,tcp,http,SF,289,1311,0,0,0,0,0,1,0,0,0,0,0,0,0,0,0,0,10,11,0.00,0.00,0.00,0.00,1.00,0.00,0.18,10,249,1.00,0.00,0.10,0.05,0.00,0.00,0.00,0.00,normal',\n",
       " '0,tcp,http,SF,290,4971,0,0,0,0,0,1,0,0,0,0,0,0,0,0,0,0,18,19,0.00,0.00,0.00,0.00,1.00,0.00,0.11,255,255,1.00,0.00,0.00,0.00,0.00,0.00,0.00,0.00,normal',\n",
       " '0,icmp,ecr_i,SF,1032,0,0,0,0,0,0,0,0,0,0,0,0,0,0,0,0,0,509,509,0.00,0.00,0.00,0.00,1.00,0.00,0.00,255,255,1.00,0.00,1.00,0.00,0.00,0.00,0.00,0.00,smurf',\n",
       " '0,tcp,link,REJ,0,0,0,0,0,0,0,0,0,0,0,0,0,0,0,0,0,0,263,10,0.02,0.00,0.98,1.00,0.04,0.06,0.00,255,10,0.04,0.06,0.00,0.00,0.02,0.00,0.98,1.00,neptune']"
      ]
     },
     "execution_count": 37,
     "metadata": {},
     "output_type": "execute_result"
    }
   ],
   "source": [
    "test_data_filtered.takeSample(False, 10)"
   ]
  },
  {
   "cell_type": "markdown",
   "metadata": {
    "id": "RgHElid8QKos"
   },
   "source": [
    "# Save cleaned dataset\n",
    "\n",
    "The following code should not be run as already the datasets are saved. \n",
    "These code are just for illustration."
   ]
  },
  {
   "cell_type": "code",
   "execution_count": null,
   "metadata": {},
   "outputs": [],
   "source": [
    "one_partition_train = train_data_replaced.coalesce(1)\n",
    "\n",
    "output_path = \"/data_serving/cleaned_kddcup.data.gz\"\n",
    "\n",
    "one_partition_train.saveAsTextFile(output_path, compressionCodecClass=\"org.apache.hadoop.io.compress.GzipCodec\")"
   ]
  },
  {
   "cell_type": "code",
   "execution_count": 56,
   "metadata": {
    "executionInfo": {
     "elapsed": 390722,
     "status": "ok",
     "timestamp": 1728667137116,
     "user": {
      "displayName": "mohsen mohammadi",
      "userId": "07282293244384741339"
     },
     "user_tz": -120
    },
    "id": "RZhqzCW6PaVv"
   },
   "outputs": [],
   "source": [
    "one_partition_test = test_data_filtered.coalesce(1)\n",
    "\n",
    "output_path = \"/data_serving/cleaned_test.data.gz\"\n",
    "\n",
    "one_partition_test.saveAsTextFile(output_path, compressionCodecClass=\"org.apache.hadoop.io.compress.GzipCodec\")"
   ]
  },
  {
   "cell_type": "code",
   "execution_count": null,
   "metadata": {
    "id": "Vv0JoDNaQSuh"
   },
   "outputs": [],
   "source": []
  }
 ],
 "metadata": {
  "colab": {
   "authorship_tag": "ABX9TyOczceiux/wC2MsyUF4ljaw",
   "mount_file_id": "1QTuJmHFaYsaE2IJk34efr5KZ3jcpGYYI",
   "provenance": []
  },
  "kernelspec": {
   "display_name": "Python 3",
   "language": "python",
   "name": "python3"
  },
  "language_info": {
   "codemirror_mode": {
    "name": "ipython",
    "version": 3
   },
   "file_extension": ".py",
   "mimetype": "text/x-python",
   "name": "python",
   "nbconvert_exporter": "python",
   "pygments_lexer": "ipython3",
   "version": "3.8.10"
  }
 },
 "nbformat": 4,
 "nbformat_minor": 1
}
