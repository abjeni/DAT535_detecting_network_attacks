{
 "cells": [
  {
   "cell_type": "code",
   "execution_count": 1,
   "metadata": {},
   "outputs": [],
   "source": [
    "import pyspark\n",
    "\n",
    "spark = pyspark.sql.SparkSession.builder.appName(\"MyApp\") \\\n",
    "    .config(\"spark.driver.memory\", \"4g\").getOrCreate()"
   ]
  },
  {
   "cell_type": "markdown",
   "metadata": {},
   "source": [
    "# Load and create dataframe"
   ]
  },
  {
   "cell_type": "code",
   "execution_count": 2,
   "metadata": {
    "scrolled": true
   },
   "outputs": [],
   "source": [
    "from pyspark.sql.types import *\n",
    "\n",
    "schema = StructType([\n",
    "    StructField('duration', IntegerType(), True),\n",
    "    StructField('protocol_type', StringType(), True),\n",
    "    StructField('service', StringType(), True),\n",
    "    StructField('flag', StringType(), True),\n",
    "    StructField('src_bytes', IntegerType(), True),\n",
    "    StructField('dst_bytes', IntegerType(), True),\n",
    "    StructField('land', IntegerType(), True),\n",
    "    StructField('wrong_fragment', IntegerType(), True),\n",
    "    StructField('urgent', IntegerType(), True),\n",
    "    StructField('hot', IntegerType(), True),\n",
    "    StructField('num_failed_logins', IntegerType(), True),\n",
    "    StructField('logged_in', IntegerType(), True),\n",
    "    StructField('num_compromised', IntegerType(), True),\n",
    "    StructField('root_shell', IntegerType(), True),\n",
    "    StructField('su_attempted', IntegerType(), True),\n",
    "    StructField('num_root', IntegerType(), True),\n",
    "    StructField('num_file_creations', IntegerType(), True),\n",
    "    StructField('num_shells', IntegerType(), True),\n",
    "    StructField('num_access_files', IntegerType(), True),\n",
    "    StructField('num_outbound_cmds', IntegerType(), True),\n",
    "    StructField('is_host_login', IntegerType(), True),\n",
    "    StructField('is_guest_login', IntegerType(), True),\n",
    "    StructField('count', IntegerType(), True),\n",
    "    StructField('srv_count', IntegerType(), True),\n",
    "    StructField('serror_rate', FloatType(), True),\n",
    "    StructField('srv_serror_rate', FloatType(), True),\n",
    "    StructField('rerror_rate', FloatType(), True),\n",
    "    StructField('srv_rerror_rate', FloatType(), True),\n",
    "    StructField('same_srv_rate', FloatType(), True),\n",
    "    StructField('diff_srv_rate', FloatType(), True),\n",
    "    StructField('srv_diff_host_rate', FloatType(), True),\n",
    "    StructField('dst_host_count', IntegerType(), True),\n",
    "    StructField('dst_host_srv_count', IntegerType(), True),\n",
    "    StructField('dst_host_same_srv_rate', FloatType(), True),\n",
    "    StructField('dst_host_diff_srv_rate', FloatType(), True),\n",
    "    StructField('dst_host_same_src_port_rate', FloatType(), True),\n",
    "    StructField('dst_host_srv_diff_host_rate', FloatType(), True),\n",
    "    StructField('dst_host_serror_rate', FloatType(), True),\n",
    "    StructField('dst_host_srv_serror_rate', FloatType(), True),\n",
    "    StructField('dst_host_rerror_rate', FloatType(), True),\n",
    "    StructField('dst_host_srv_rerror_rate', FloatType(), True),\n",
    "    StructField('label', StringType(), True)\n",
    "])\n",
    "\n",
    "kddcup_df = spark.read.csv(\"/data_serving/cleaned_kddcup.data.gz\", sep = ',', header = True, schema = schema)\n",
    "test_df = spark.read.csv(\"/data_serving/cleaned_test.data.gz\", sep = ',', header = True, schema = schema)\n"
   ]
  },
  {
   "cell_type": "markdown",
   "metadata": {},
   "source": [
    "### train"
   ]
  },
  {
   "cell_type": "code",
   "execution_count": 3,
   "metadata": {},
   "outputs": [
    {
     "name": "stdout",
     "output_type": "stream",
     "text": [
      "Number of partition:  10\n"
     ]
    }
   ],
   "source": [
    "kddcup_df = kddcup_df.repartition(10)\n",
    "kddcup_df.cache()\n",
    "print(\"Number of partition: \", kddcup_df.rdd.getNumPartitions())"
   ]
  },
  {
   "cell_type": "markdown",
   "metadata": {},
   "source": [
    "### test"
   ]
  },
  {
   "cell_type": "code",
   "execution_count": 4,
   "metadata": {},
   "outputs": [
    {
     "name": "stdout",
     "output_type": "stream",
     "text": [
      "Number of partition:  1\n"
     ]
    }
   ],
   "source": [
    "test_df.cache()\n",
    "print(\"Number of partition: \", test_df.rdd.getNumPartitions())"
   ]
  },
  {
   "cell_type": "code",
   "execution_count": 5,
   "metadata": {},
   "outputs": [
    {
     "data": {
      "text/plain": [
       "DataFrame[duration: int, protocol_type: string, service: string, flag: string, src_bytes: int, dst_bytes: int, land: int, wrong_fragment: int, urgent: int, hot: int, num_failed_logins: int, logged_in: int, num_compromised: int, root_shell: int, su_attempted: int, num_root: int, num_file_creations: int, num_shells: int, num_access_files: int, num_outbound_cmds: int, is_host_login: int, is_guest_login: int, count: int, srv_count: int, serror_rate: float, srv_serror_rate: float, rerror_rate: float, srv_rerror_rate: float, same_srv_rate: float, diff_srv_rate: float, srv_diff_host_rate: float, dst_host_count: int, dst_host_srv_count: int, dst_host_same_srv_rate: float, dst_host_diff_srv_rate: float, dst_host_same_src_port_rate: float, dst_host_srv_diff_host_rate: float, dst_host_serror_rate: float, dst_host_srv_serror_rate: float, dst_host_rerror_rate: float, dst_host_srv_rerror_rate: float, label: string]"
      ]
     },
     "execution_count": 5,
     "metadata": {},
     "output_type": "execute_result"
    }
   ],
   "source": [
    "kddcup_df"
   ]
  },
  {
   "cell_type": "code",
   "execution_count": 6,
   "metadata": {
    "scrolled": false
   },
   "outputs": [
    {
     "data": {
      "text/plain": [
       "DataFrame[duration: int, protocol_type: string, service: string, flag: string, src_bytes: int, dst_bytes: int, land: int, wrong_fragment: int, urgent: int, hot: int, num_failed_logins: int, logged_in: int, num_compromised: int, root_shell: int, su_attempted: int, num_root: int, num_file_creations: int, num_shells: int, num_access_files: int, num_outbound_cmds: int, is_host_login: int, is_guest_login: int, count: int, srv_count: int, serror_rate: float, srv_serror_rate: float, rerror_rate: float, srv_rerror_rate: float, same_srv_rate: float, diff_srv_rate: float, srv_diff_host_rate: float, dst_host_count: int, dst_host_srv_count: int, dst_host_same_srv_rate: float, dst_host_diff_srv_rate: float, dst_host_same_src_port_rate: float, dst_host_srv_diff_host_rate: float, dst_host_serror_rate: float, dst_host_srv_serror_rate: float, dst_host_rerror_rate: float, dst_host_srv_rerror_rate: float, label: string]"
      ]
     },
     "execution_count": 6,
     "metadata": {},
     "output_type": "execute_result"
    }
   ],
   "source": [
    "test_df"
   ]
  },
  {
   "cell_type": "markdown",
   "metadata": {},
   "source": [
    "# Check duplicate rows before any manipulation"
   ]
  },
  {
   "cell_type": "code",
   "execution_count": 7,
   "metadata": {
    "scrolled": true
   },
   "outputs": [
    {
     "name": "stdout",
     "output_type": "stream",
     "text": [
      "Number of duplicates in train dataset: 3823439\n",
      "Number of duplicates in test dataset: 219031\n"
     ]
    }
   ],
   "source": [
    "print(f\"Number of duplicates in train dataset: {kddcup_df.count() - kddcup_df.distinct().count()}\")\n",
    "print(f\"Number of duplicates in test dataset: {test_df.count() - test_df.distinct().count()}\")"
   ]
  },
  {
   "cell_type": "markdown",
   "metadata": {},
   "source": [
    "### Remove duplicates"
   ]
  },
  {
   "cell_type": "code",
   "execution_count": 8,
   "metadata": {},
   "outputs": [
    {
     "name": "stdout",
     "output_type": "stream",
     "text": [
      "Number of partitions after removing duplicate:  200\n"
     ]
    }
   ],
   "source": [
    "kddcup_distinct_df = kddcup_df.distinct()\n",
    "kddcup_distinct_df.cache()\n",
    "# Number of partitions after removing duplicate\n",
    "print(\"Number of partitions after removing duplicate: \", kddcup_distinct_df.rdd.getNumPartitions())"
   ]
  },
  {
   "cell_type": "code",
   "execution_count": 9,
   "metadata": {},
   "outputs": [
    {
     "name": "stdout",
     "output_type": "stream",
     "text": [
      "Number of partitions after removing duplicate:  200\n"
     ]
    }
   ],
   "source": [
    "test_distinct_df = test_df.distinct()\n",
    "test_distinct_df.cache()\n",
    "# Number of partitions after removing duplicate\n",
    "print(\"Number of partitions after removing duplicate: \", test_distinct_df.rdd.getNumPartitions())"
   ]
  },
  {
   "cell_type": "markdown",
   "metadata": {},
   "source": [
    "### Number of rows after removing duplicates"
   ]
  },
  {
   "cell_type": "code",
   "execution_count": 10,
   "metadata": {},
   "outputs": [
    {
     "name": "stdout",
     "output_type": "stream",
     "text": [
      "train:  1074991\n",
      "test:  73268\n"
     ]
    }
   ],
   "source": [
    "print(\"train: \", kddcup_distinct_df.count())\n",
    "print(\"test: \", test_distinct_df.count())"
   ]
  },
  {
   "cell_type": "markdown",
   "metadata": {},
   "source": [
    "### reduce number of prtitions"
   ]
  },
  {
   "cell_type": "code",
   "execution_count": 11,
   "metadata": {},
   "outputs": [
    {
     "name": "stdout",
     "output_type": "stream",
     "text": [
      "10\n",
      "1\n"
     ]
    }
   ],
   "source": [
    "kddcup_distinct_df = kddcup_distinct_df.coalesce(10)\n",
    "kddcup_distinct_df.cache()\n",
    "print(kddcup_distinct_df.rdd.getNumPartitions())\n",
    "\n",
    "test_distinct_df = test_distinct_df.coalesce(1)\n",
    "test_distinct_df.cache()\n",
    "print(test_distinct_df.rdd.getNumPartitions())"
   ]
  },
  {
   "cell_type": "markdown",
   "metadata": {},
   "source": [
    "# Visulization"
   ]
  },
  {
   "cell_type": "markdown",
   "metadata": {},
   "source": [
    "## Distinct values in each Categorical data"
   ]
  },
  {
   "cell_type": "code",
   "execution_count": 12,
   "metadata": {},
   "outputs": [],
   "source": [
    "from pyspark.sql import Row"
   ]
  },
  {
   "cell_type": "code",
   "execution_count": 13,
   "metadata": {},
   "outputs": [
    {
     "name": "stdout",
     "output_type": "stream",
     "text": [
      "CPU times: user 192 ms, sys: 31.9 ms, total: 224 ms\n",
      "Wall time: 1.78 s\n"
     ]
    },
    {
     "data": {
      "text/plain": [
       "DataFrame[column: string, Distinc_values_count: bigint]"
      ]
     },
     "execution_count": 13,
     "metadata": {},
     "output_type": "execute_result"
    }
   ],
   "source": [
    "%%time\n",
    "categorical_dict = {\n",
    "    \"protocol_type\": kddcup_distinct_df.select(\"protocol_type\").distinct().count(),\n",
    "    \"service\": kddcup_distinct_df.select(\"service\").distinct().count(),\n",
    "    \"flag\": kddcup_distinct_df.select(\"flag\").distinct().count(),\n",
    "    \"label\": kddcup_distinct_df.select(\"label\").distinct().count(),\n",
    "}\n",
    "\n",
    "\n",
    "categorical_data_df = spark.createDataFrame([Row(column=key, Distinc_values_count=value) for key, value in categorical_dict.items()]) \n",
    "categorical_data_df"
   ]
  },
  {
   "cell_type": "markdown",
   "metadata": {},
   "source": [
    "## Number of each label in dataset"
   ]
  },
  {
   "cell_type": "markdown",
   "metadata": {},
   "source": [
    "### train"
   ]
  },
  {
   "cell_type": "code",
   "execution_count": 14,
   "metadata": {},
   "outputs": [
    {
     "name": "stdout",
     "output_type": "stream",
     "text": [
      "+---------------+------+\n",
      "|          label| count|\n",
      "+---------------+------+\n",
      "|         normal|812813|\n",
      "|        neptune|242149|\n",
      "|          satan|  5019|\n",
      "|        ipsweep|  3723|\n",
      "|      portsweep|  3564|\n",
      "|          smurf|  3007|\n",
      "|           nmap|  1554|\n",
      "|           back|   968|\n",
      "|       teardrop|   918|\n",
      "|    warezclient|   893|\n",
      "|            pod|   206|\n",
      "|   guess_passwd|    53|\n",
      "|buffer_overflow|    30|\n",
      "|    warezmaster|    20|\n",
      "|           land|    19|\n",
      "|           imap|    12|\n",
      "|        rootkit|    10|\n",
      "|     loadmodule|     9|\n",
      "|      ftp_write|     8|\n",
      "|       multihop|     7|\n",
      "|            phf|     4|\n",
      "|           perl|     3|\n",
      "|            spy|     2|\n",
      "+---------------+------+\n",
      "\n"
     ]
    }
   ],
   "source": [
    "labels_count = kddcup_distinct_df.groupBy(\"label\").count().orderBy(\"count\", ascending=False)\n",
    "labels_count.cache()\n",
    "labels_count.show(23)"
   ]
  },
  {
   "cell_type": "code",
   "execution_count": 15,
   "metadata": {},
   "outputs": [
    {
     "data": {
      "image/png": "[encoded data removed]",
      "text/plain": [
       "<Figure size 864x432 with 1 Axes>"
      ]
     },
     "metadata": {
      "needs_background": "light"
     },
     "output_type": "display_data"
    }
   ],
   "source": [
    "import matplotlib.pyplot as plt\n",
    "import pandas as pd\n",
    "\n",
    "labels_count_pd = labels_count.toPandas()\n",
    "plt.figure(figsize=(12, 6))\n",
    "plt.bar(labels_count_pd['label'], labels_count_pd['count'])\n",
    "plt.xlabel('Labels')\n",
    "plt.ylabel('Counts')\n",
    "plt.title('Label Distribution Train Data')\n",
    "plt.xticks(rotation=45, ha='right') \n",
    "plt.tight_layout() \n",
    "plt.show()\n"
   ]
  },
  {
   "cell_type": "markdown",
   "metadata": {},
   "source": [
    "### test"
   ]
  },
  {
   "cell_type": "code",
   "execution_count": 16,
   "metadata": {},
   "outputs": [
    {
     "name": "stdout",
     "output_type": "stream",
     "text": [
      "+---------------+-----+\n",
      "|          label|count|\n",
      "+---------------+-----+\n",
      "|         normal|47912|\n",
      "|        neptune|20332|\n",
      "|   guess_passwd| 1302|\n",
      "|    warezmaster| 1002|\n",
      "|          smurf|  936|\n",
      "|          satan|  860|\n",
      "|           back|  386|\n",
      "|      portsweep|  174|\n",
      "|        ipsweep|  155|\n",
      "|           nmap|   80|\n",
      "|            pod|   45|\n",
      "|buffer_overflow|   22|\n",
      "|       multihop|   18|\n",
      "|        rootkit|   13|\n",
      "|       teardrop|   12|\n",
      "|           land|    9|\n",
      "|      ftp_write|    3|\n",
      "|            phf|    2|\n",
      "|           perl|    2|\n",
      "|     loadmodule|    2|\n",
      "|           imap|    1|\n",
      "+---------------+-----+\n",
      "\n"
     ]
    }
   ],
   "source": [
    "labels_count_test = test_distinct_df.groupBy(\"label\").count().orderBy(\"count\", ascending=False)\n",
    "labels_count_test.cache()\n",
    "labels_count_test.show(23)"
   ]
  },
  {
   "cell_type": "code",
   "execution_count": 17,
   "metadata": {},
   "outputs": [
    {
     "data": {
      "image/png": "[encoded data removed]",
      "text/plain": [
       "<Figure size 864x432 with 1 Axes>"
      ]
     },
     "metadata": {
      "needs_background": "light"
     },
     "output_type": "display_data"
    }
   ],
   "source": [
    "labels_count_pd = labels_count_test.toPandas()\n",
    "plt.figure(figsize=(12, 6))\n",
    "plt.bar(labels_count_pd['label'], labels_count_pd['count'])\n",
    "plt.xlabel('Labels')\n",
    "plt.ylabel('Counts')\n",
    "plt.title('Label Distribution Test Data')\n",
    "plt.xticks(rotation=45, ha='right') \n",
    "plt.tight_layout() \n",
    "plt.show()"
   ]
  },
  {
   "cell_type": "markdown",
   "metadata": {},
   "source": [
    "# Spark MLlib\n",
    "## Applying Random forest and Logistic Regression on dataset without resampling"
   ]
  },
  {
   "cell_type": "markdown",
   "metadata": {},
   "source": [
    "## Random Forest Classifier"
   ]
  },
  {
   "cell_type": "code",
   "execution_count": 18,
   "metadata": {},
   "outputs": [],
   "source": [
    "from pyspark.ml import Pipeline\n",
    "from pyspark.ml.classification import RandomForestClassifier\n",
    "from pyspark.ml.evaluation import MulticlassClassificationEvaluator\n",
    "from pyspark.ml.feature import IndexToString, StringIndexer, VectorIndexer, VectorAssembler\n",
    "\n",
    "\n",
    "labelIndexer = StringIndexer(inputCol=\"label\", outputCol=\"indexedLabel\",  handleInvalid=\"skip\")\n",
    "protocol_typeIndexer = StringIndexer(inputCol=\"protocol_type\", outputCol=\"indexedProtocol_type\",  handleInvalid=\"skip\")\n",
    "serviceIndexer = StringIndexer(inputCol=\"service\", outputCol=\"indexedService\",  handleInvalid=\"skip\")\n",
    "flagIndexer = StringIndexer(inputCol=\"flag\", outputCol=\"indexedFlag\",  handleInvalid=\"skip\")\n",
    "\n",
    "featureAssembler = VectorAssembler(\n",
    "    inputCols=[\n",
    "        \"duration\",\n",
    "        \"indexedProtocol_type\",\n",
    "        \"indexedService\",\n",
    "        \"indexedFlag\",\n",
    "        \"src_bytes\",\n",
    "        \"dst_bytes\",\n",
    "        \"land\",\n",
    "        \"wrong_fragment\",\n",
    "        \"urgent\",\n",
    "        \"hot\",\n",
    "        \"num_failed_logins\",\n",
    "        \"logged_in\",\n",
    "        \"num_compromised\",\n",
    "        \"root_shell\",\n",
    "        \"su_attempted\",\n",
    "        \"num_root\",\n",
    "        \"num_file_creations\",\n",
    "        \"num_shells\",\n",
    "        \"num_access_files\",\n",
    "        \"num_outbound_cmds\",\n",
    "        \"is_host_login\",\n",
    "        \"is_guest_login\",\n",
    "        \"count\",\n",
    "        \"srv_count\",\n",
    "        \"serror_rate\",\n",
    "        \"srv_serror_rate\",\n",
    "        \"rerror_rate\",\n",
    "        \"srv_rerror_rate\",\n",
    "        \"same_srv_rate\",\n",
    "        \"diff_srv_rate\",\n",
    "        \"srv_diff_host_rate\",\n",
    "        \"dst_host_count\",\n",
    "        \"dst_host_srv_count\",\n",
    "        \"dst_host_same_srv_rate\",\n",
    "        \"dst_host_diff_srv_rate\",\n",
    "        \"dst_host_same_src_port_rate\",\n",
    "        \"dst_host_srv_diff_host_rate\",\n",
    "        \"dst_host_serror_rate\",\n",
    "        \"dst_host_srv_serror_rate\",\n",
    "        \"dst_host_rerror_rate\",\n",
    "        \"dst_host_srv_rerror_rate\"\n",
    "    ],\n",
    "    outputCol=\"features\"\n",
    ")\n",
    "\n",
    "\n",
    "# Train random forest classifier model.\n",
    "rf = RandomForestClassifier(labelCol=\"indexedLabel\", featuresCol=\"features\", numTrees=10, maxBins=80)\n",
    "\n",
    "\n",
    "# Chain indexers and tree in a Pipeline\n",
    "pipeline = Pipeline(stages=[labelIndexer, protocol_typeIndexer, serviceIndexer, flagIndexer, featureAssembler, rf])\n",
    "\n",
    "# Train model.  This also runs the indexers.\n",
    "\n",
    "model_ws_rf = pipeline.fit(kddcup_distinct_df)\n",
    "\n",
    "\n",
    "# Make predictions.\n",
    "\n",
    "predictions_ws_rf = model_ws_rf.transform(test_distinct_df)"
   ]
  },
  {
   "cell_type": "code",
   "execution_count": 19,
   "metadata": {},
   "outputs": [
    {
     "name": "stdout",
     "output_type": "stream",
     "text": [
      "RandomForestClassificationModel: uid=RandomForestClassifier_c559168feb95, numTrees=10, numClasses=23, numFeatures=41\n"
     ]
    }
   ],
   "source": [
    "rf = model_ws_rf.stages[-1]\n",
    "# summary only\n",
    "print(rf)"
   ]
  },
  {
   "cell_type": "code",
   "execution_count": 20,
   "metadata": {},
   "outputs": [
    {
     "data": {
      "text/plain": [
       "DataFrame[label: string, indexedLabel: double, prediction: double]"
      ]
     },
     "execution_count": 20,
     "metadata": {},
     "output_type": "execute_result"
    }
   ],
   "source": [
    "# Select example rows to display.\n",
    "predictions_partial_ws_rf = predictions_ws_rf.select(\"label\", \"indexedLabel\", \"prediction\")\n",
    "predictions_partial_ws_rf.cache()"
   ]
  },
  {
   "cell_type": "markdown",
   "metadata": {},
   "source": [
    "### Evaluate result of Random Forest on dataset without resampling "
   ]
  },
  {
   "cell_type": "code",
   "execution_count": 21,
   "metadata": {},
   "outputs": [],
   "source": [
    "from pyspark.sql import functions as F\n",
    "\n",
    "# count correct and errors\n",
    "def evaluate_model_ws(pred_df):\n",
    "    corrects = pred_df.where(F.col(\"indexedLabel\") == F.col(\"prediction\"))\n",
    "    errors =  pred_df.where(F.col(\"indexedLabel\") != F.col(\"prediction\"))\n",
    "\n",
    "    correct_counts = corrects.groupBy(\"label\").count().withColumnRenamed(\"count\", \"corrects\")\n",
    "    errors_counts = errors.groupBy(\"label\").count().withColumnRenamed(\"count\", \"errors\")\n",
    "\n",
    "    # total\n",
    "    total = pred_df.groupBy(\"label\").count().withColumnRenamed(\"count\", \"total\")\n",
    "\n",
    "    # join\n",
    "    result = total.join(correct_counts, on=\"label\", how=\"left\")\n",
    "    result = result.join(errors_counts, on=\"label\", how=\"left\")\n",
    "\n",
    "    # Fill null values for rows where either error or correct is 0\n",
    "    result = result.na.fill(0, subset=[\"corrects\", \"errors\"])\n",
    "\n",
    "    # Order by total predictions\n",
    "    result = result.orderBy(\"total\", ascending=False)\n",
    "\n",
    "    result.show(23)"
   ]
  },
  {
   "cell_type": "code",
   "execution_count": 22,
   "metadata": {},
   "outputs": [
    {
     "name": "stdout",
     "output_type": "stream",
     "text": [
      "+---------------+-----+--------+------+\n",
      "|          label|total|corrects|errors|\n",
      "+---------------+-----+--------+------+\n",
      "|         normal|47910|   47756|   154|\n",
      "|        neptune|20332|   20306|    26|\n",
      "|   guess_passwd| 1302|       0|  1302|\n",
      "|    warezmaster| 1002|       0|  1002|\n",
      "|          smurf|  936|     925|    11|\n",
      "|          satan|  860|     838|    22|\n",
      "|           back|  386|       3|   383|\n",
      "|      portsweep|  174|     135|    39|\n",
      "|        ipsweep|  155|     150|     5|\n",
      "|           nmap|   80|      80|     0|\n",
      "|            pod|   45|       0|    45|\n",
      "|buffer_overflow|   22|       0|    22|\n",
      "|       multihop|   18|       0|    18|\n",
      "|        rootkit|   13|       0|    13|\n",
      "|       teardrop|   12|       5|     7|\n",
      "|           land|    9|       0|     9|\n",
      "|      ftp_write|    3|       0|     3|\n",
      "|            phf|    2|       0|     2|\n",
      "|           perl|    2|       0|     2|\n",
      "|     loadmodule|    2|       0|     2|\n",
      "|           imap|    1|       0|     1|\n",
      "+---------------+-----+--------+------+\n",
      "\n",
      "Random Forest on dataset without resampling\n"
     ]
    }
   ],
   "source": [
    "evaluate_model_ws(predictions_partial_ws_rf)\n",
    "print(\"Random Forest on dataset without resampling\")"
   ]
  },
  {
   "cell_type": "code",
   "execution_count": 23,
   "metadata": {},
   "outputs": [
    {
     "name": "stdout",
     "output_type": "stream",
     "text": [
      "F1 score: 0.939710752090198\n"
     ]
    }
   ],
   "source": [
    "evaluator = MulticlassClassificationEvaluator(\n",
    "    labelCol=\"indexedLabel\", predictionCol=\"prediction\", metricName=\"f1\")\n",
    "f1_score = evaluator.evaluate(predictions_partial_ws_rf)\n",
    "print(f\"F1 score: {f1_score}\")"
   ]
  },
  {
   "cell_type": "markdown",
   "metadata": {},
   "source": [
    "## Logistic Regression"
   ]
  },
  {
   "cell_type": "code",
   "execution_count": 24,
   "metadata": {},
   "outputs": [],
   "source": [
    "from pyspark.ml import Pipeline\n",
    "from pyspark.ml.classification import LogisticRegression\n",
    "from pyspark.ml.evaluation import MulticlassClassificationEvaluator\n",
    "from pyspark.ml.feature import StringIndexer, VectorIndexer, VectorAssembler\n",
    "\n",
    "labelIndexer = StringIndexer(inputCol=\"label\", outputCol=\"indexedLabel\",  handleInvalid=\"skip\")\n",
    "protocol_typeIndexer = StringIndexer(inputCol=\"protocol_type\", outputCol=\"indexedProtocol_type\",  handleInvalid=\"skip\")\n",
    "serviceIndexer = StringIndexer(inputCol=\"service\", outputCol=\"indexedService\",  handleInvalid=\"skip\")\n",
    "flagIndexer = StringIndexer(inputCol=\"flag\", outputCol=\"indexedFlag\",  handleInvalid=\"skip\")\n",
    "\n",
    "featureAssembler = VectorAssembler(\n",
    "    inputCols=[\n",
    "        \"duration\",\n",
    "        \"indexedProtocol_type\",\n",
    "        \"indexedService\",\n",
    "        \"indexedFlag\",\n",
    "        \"src_bytes\",\n",
    "        \"dst_bytes\",\n",
    "        \"land\",\n",
    "        \"wrong_fragment\",\n",
    "        \"urgent\",\n",
    "        \"hot\",\n",
    "        \"num_failed_logins\",\n",
    "        \"logged_in\",\n",
    "        \"num_compromised\",\n",
    "        \"root_shell\",\n",
    "        \"su_attempted\",\n",
    "        \"num_root\",\n",
    "        \"num_file_creations\",\n",
    "        \"num_shells\",\n",
    "        \"num_access_files\",\n",
    "        \"num_outbound_cmds\",\n",
    "        \"is_host_login\",\n",
    "        \"is_guest_login\",\n",
    "        \"count\",\n",
    "        \"srv_count\",\n",
    "        \"serror_rate\",\n",
    "        \"srv_serror_rate\",\n",
    "        \"rerror_rate\",\n",
    "        \"srv_rerror_rate\",\n",
    "        \"same_srv_rate\",\n",
    "        \"diff_srv_rate\",\n",
    "        \"srv_diff_host_rate\",\n",
    "        \"dst_host_count\",\n",
    "        \"dst_host_srv_count\",\n",
    "        \"dst_host_same_srv_rate\",\n",
    "        \"dst_host_diff_srv_rate\",\n",
    "        \"dst_host_same_src_port_rate\",\n",
    "        \"dst_host_srv_diff_host_rate\",\n",
    "        \"dst_host_serror_rate\",\n",
    "        \"dst_host_srv_serror_rate\",\n",
    "        \"dst_host_rerror_rate\",\n",
    "        \"dst_host_srv_rerror_rate\"\n",
    "    ],\n",
    "    outputCol=\"features\"\n",
    ")\n",
    "\n",
    "\n",
    "# Train a Logistic Regression model.\n",
    "lr = LogisticRegression(labelCol=\"indexedLabel\", featuresCol=\"features\")\n",
    "\n",
    "# Chain indexers and model in a Pipeline\n",
    "pipeline = Pipeline(stages=[labelIndexer, protocol_typeIndexer, serviceIndexer, flagIndexer, featureAssembler, lr])\n",
    "\n",
    "# Train model.  This also runs the indexers.\n",
    "model_ws_lr = pipeline.fit(kddcup_distinct_df)\n",
    "\n",
    "# Make predictions.\n",
    "predictions_ws_lr = model_ws_lr.transform(test_distinct_df)"
   ]
  },
  {
   "cell_type": "code",
   "execution_count": 25,
   "metadata": {},
   "outputs": [
    {
     "name": "stdout",
     "output_type": "stream",
     "text": [
      "LogisticRegressionModel: uid=LogisticRegression_4f1ffb1af009, numClasses=23, numFeatures=41\n"
     ]
    }
   ],
   "source": [
    "lr = model_ws_lr.stages[-1]\n",
    "# summary only\n",
    "print(lr)"
   ]
  },
  {
   "cell_type": "code",
   "execution_count": 26,
   "metadata": {},
   "outputs": [
    {
     "data": {
      "text/plain": [
       "DataFrame[label: string, indexedLabel: double, prediction: double]"
      ]
     },
     "execution_count": 26,
     "metadata": {},
     "output_type": "execute_result"
    }
   ],
   "source": [
    "# Select example rows to display.\n",
    "predictions_partial_ws_lr = predictions_ws_lr.select(\"label\", \"indexedLabel\", \"prediction\")\n",
    "predictions_partial_ws_lr.cache()"
   ]
  },
  {
   "cell_type": "markdown",
   "metadata": {},
   "source": [
    "### Evaluate result of Logistic Regression on dataset without resampling "
   ]
  },
  {
   "cell_type": "code",
   "execution_count": 27,
   "metadata": {
    "scrolled": false
   },
   "outputs": [
    {
     "name": "stdout",
     "output_type": "stream",
     "text": [
      "+---------------+-----+--------+------+\n",
      "|          label|total|corrects|errors|\n",
      "+---------------+-----+--------+------+\n",
      "|         normal|47910|   47280|   630|\n",
      "|        neptune|20332|   20318|    14|\n",
      "|   guess_passwd| 1302|       1|  1301|\n",
      "|    warezmaster| 1002|       0|  1002|\n",
      "|          smurf|  936|     921|    15|\n",
      "|          satan|  860|     837|    23|\n",
      "|           back|  386|     197|   189|\n",
      "|      portsweep|  174|     162|    12|\n",
      "|        ipsweep|  155|     149|     6|\n",
      "|           nmap|   80|      78|     2|\n",
      "|            pod|   45|      40|     5|\n",
      "|buffer_overflow|   22|       0|    22|\n",
      "|       multihop|   18|       0|    18|\n",
      "|        rootkit|   13|       0|    13|\n",
      "|       teardrop|   12|      12|     0|\n",
      "|           land|    9|       8|     1|\n",
      "|      ftp_write|    3|       0|     3|\n",
      "|            phf|    2|       1|     1|\n",
      "|           perl|    2|       1|     1|\n",
      "|     loadmodule|    2|       0|     2|\n",
      "|           imap|    1|       0|     1|\n",
      "+---------------+-----+--------+------+\n",
      "\n"
     ]
    }
   ],
   "source": [
    "# Logistic Regression on dataset without resampling\n",
    "evaluate_model_ws(predictions_partial_ws_lr)"
   ]
  },
  {
   "cell_type": "code",
   "execution_count": 28,
   "metadata": {},
   "outputs": [
    {
     "name": "stdout",
     "output_type": "stream",
     "text": [
      "F1 score: 0.9403078668458779\n"
     ]
    }
   ],
   "source": [
    "evaluator = MulticlassClassificationEvaluator(\n",
    "    labelCol=\"indexedLabel\", predictionCol=\"prediction\", metricName=\"f1\")\n",
    "f1_score = evaluator.evaluate(predictions_partial_ws_lr)\n",
    "print(f\"F1 score: {f1_score}\")"
   ]
  },
  {
   "cell_type": "markdown",
   "metadata": {},
   "source": [
    "# OverSampling minor labels"
   ]
  },
  {
   "cell_type": "markdown",
   "metadata": {},
   "source": [
    "### define function for oversampling"
   ]
  },
  {
   "cell_type": "code",
   "execution_count": 29,
   "metadata": {},
   "outputs": [],
   "source": [
    "# number of neptune labels can be considered as target_number\n",
    "def oversampling(df, label, target_number=5000):\n",
    "    minor_df = df.filter(col(\"label\") == label)\n",
    "    ratio = target_number / minor_df.count()\n",
    "    if ratio <= 1:\n",
    "        return minor_df\n",
    "    oversampled_df = minor_df.sample(withReplacement=True, fraction=ratio)\n",
    "    return oversampled_df"
   ]
  },
  {
   "cell_type": "code",
   "execution_count": 30,
   "metadata": {},
   "outputs": [],
   "source": [
    "# take minor labels in a list\n",
    "labels_exclude_firstTwo = [row[\"label\"] for row in kddcup_distinct_df.groupBy(\"label\").count().orderBy(\"count\", ascending=True).collect()]"
   ]
  },
  {
   "cell_type": "markdown",
   "metadata": {},
   "source": [
    "### Create a new dataframe where we join all labels together after oversampling"
   ]
  },
  {
   "cell_type": "code",
   "execution_count": 31,
   "metadata": {},
   "outputs": [],
   "source": [
    "from pyspark.sql.functions import col\n",
    "oversampled_df = spark.createDataFrame([], kddcup_df.schema)\n",
    "\n",
    "for label in labels_exclude_firstTwo:\n",
    "    oversampled_label_df = oversampling(kddcup_distinct_df, label)\n",
    "    oversampled_df = oversampled_df.union(oversampled_label_df)"
   ]
  },
  {
   "cell_type": "code",
   "execution_count": 32,
   "metadata": {},
   "outputs": [
    {
     "name": "stdout",
     "output_type": "stream",
     "text": [
      "10\n"
     ]
    }
   ],
   "source": [
    "oversampled_df = oversampled_df.coalesce(10)\n",
    "oversampled_df.cache()\n",
    "# Take number of partitions after oversampling. It increased by spark to 212\n",
    "print(oversampled_df.rdd.getNumPartitions())"
   ]
  },
  {
   "cell_type": "code",
   "execution_count": 33,
   "metadata": {},
   "outputs": [
    {
     "data": {
      "text/plain": [
       "1159855"
      ]
     },
     "execution_count": 33,
     "metadata": {},
     "output_type": "execute_result"
    }
   ],
   "source": [
    "# Number of rows after oversampling\n",
    "oversampled_df.count()"
   ]
  },
  {
   "cell_type": "code",
   "execution_count": 34,
   "metadata": {},
   "outputs": [
    {
     "name": "stdout",
     "output_type": "stream",
     "text": [
      "+---------------+------+\n",
      "|          label| count|\n",
      "+---------------+------+\n",
      "|         normal|812813|\n",
      "|        neptune|242149|\n",
      "|           perl|  5114|\n",
      "|      portsweep|  5079|\n",
      "|    warezclient|  5063|\n",
      "|           nmap|  5049|\n",
      "|           land|  5045|\n",
      "|            spy|  5038|\n",
      "|            phf|  5034|\n",
      "|   guess_passwd|  5027|\n",
      "|          satan|  5019|\n",
      "|          smurf|  4997|\n",
      "|            pod|  4995|\n",
      "|    warezmaster|  4990|\n",
      "|buffer_overflow|  4977|\n",
      "|           back|  4962|\n",
      "|        rootkit|  4960|\n",
      "|     loadmodule|  4959|\n",
      "|        ipsweep|  4950|\n",
      "|           imap|  4934|\n",
      "|       multihop|  4923|\n",
      "|      ftp_write|  4920|\n",
      "|       teardrop|  4858|\n",
      "+---------------+------+\n",
      "\n"
     ]
    }
   ],
   "source": [
    "# count number of minor labels after oversampling\n",
    "oversampled_df.groupBy(\"label\").count().orderBy(\"count\", ascending=False).show(23)"
   ]
  },
  {
   "cell_type": "code",
   "execution_count": 35,
   "metadata": {},
   "outputs": [
    {
     "data": {
      "text/plain": [
       "DataFrame[label: string, count: bigint]"
      ]
     },
     "execution_count": 35,
     "metadata": {},
     "output_type": "execute_result"
    }
   ],
   "source": [
    "# Ensure oversampling used all different rows of each label. \n",
    "# For example, we have only two rows with label 'spy' in original dataset. \n",
    "# Oversampling has to include these two rows as original dataset.\n",
    "oversampled_df.distinct().groupBy(\"label\").count()"
   ]
  },
  {
   "cell_type": "markdown",
   "metadata": {},
   "source": [
    "### Visulize dataset after sampling"
   ]
  },
  {
   "cell_type": "code",
   "execution_count": 36,
   "metadata": {},
   "outputs": [
    {
     "name": "stdout",
     "output_type": "stream",
     "text": [
      "+---------------+------+\n",
      "|          label| count|\n",
      "+---------------+------+\n",
      "|         normal|812813|\n",
      "|        neptune|242149|\n",
      "|           perl|  5114|\n",
      "|      portsweep|  5079|\n",
      "|    warezclient|  5063|\n",
      "|           nmap|  5049|\n",
      "|           land|  5045|\n",
      "|            spy|  5038|\n",
      "|            phf|  5034|\n",
      "|   guess_passwd|  5027|\n",
      "|          satan|  5019|\n",
      "|          smurf|  4997|\n",
      "|            pod|  4995|\n",
      "|    warezmaster|  4990|\n",
      "|buffer_overflow|  4977|\n",
      "|           back|  4962|\n",
      "|        rootkit|  4960|\n",
      "|     loadmodule|  4959|\n",
      "|        ipsweep|  4950|\n",
      "|           imap|  4934|\n",
      "|       multihop|  4923|\n",
      "|      ftp_write|  4920|\n",
      "|       teardrop|  4858|\n",
      "+---------------+------+\n",
      "\n"
     ]
    }
   ],
   "source": [
    "sampled_labels_count = oversampled_df.groupBy(\"label\").count().orderBy(\"count\", ascending=False)\n",
    "sampled_labels_count.cache()\n",
    "sampled_labels_count.show(23)"
   ]
  },
  {
   "cell_type": "code",
   "execution_count": 37,
   "metadata": {},
   "outputs": [
    {
     "name": "stdout",
     "output_type": "stream",
     "text": [
      "+---------------+------+\n",
      "|          label| count|\n",
      "+---------------+------+\n",
      "|          satan|  5019|\n",
      "|        neptune|242149|\n",
      "|           nmap|  1490|\n",
      "|      portsweep|  2701|\n",
      "|           back|   961|\n",
      "|    warezclient|   889|\n",
      "|   guess_passwd|    53|\n",
      "|         normal|812813|\n",
      "|        rootkit|    10|\n",
      "|           perl|     3|\n",
      "|buffer_overflow|    30|\n",
      "|       multihop|     7|\n",
      "|        ipsweep|  2731|\n",
      "|    warezmaster|    20|\n",
      "|           imap|    12|\n",
      "|       teardrop|   911|\n",
      "|           land|    19|\n",
      "|            pod|   206|\n",
      "|      ftp_write|     8|\n",
      "|          smurf|  2433|\n",
      "|     loadmodule|     9|\n",
      "|            phf|     4|\n",
      "|            spy|     2|\n",
      "+---------------+------+\n",
      "\n"
     ]
    }
   ],
   "source": [
    "# Distinct values for each label\n",
    "oversampled_df.distinct().groupBy(\"label\").count().show(23)"
   ]
  },
  {
   "cell_type": "code",
   "execution_count": 38,
   "metadata": {},
   "outputs": [
    {
     "data": {
      "image/png": "[encoded data removed]",
      "text/plain": [
       "<Figure size 864x432 with 1 Axes>"
      ]
     },
     "metadata": {
      "needs_background": "light"
     },
     "output_type": "display_data"
    }
   ],
   "source": [
    "sampled_labels_count_pd = sampled_labels_count.toPandas()\n",
    "plt.figure(figsize=(12, 6))\n",
    "plt.bar(sampled_labels_count_pd['label'], sampled_labels_count_pd['count'])\n",
    "plt.xlabel('Labels')\n",
    "plt.ylabel('Counts')\n",
    "plt.title('Label Distribution')\n",
    "plt.xticks(rotation=45, ha='right') \n",
    "plt.tight_layout() \n",
    "plt.show()"
   ]
  },
  {
   "cell_type": "markdown",
   "metadata": {},
   "source": [
    "## Logistic Regression on dataset with resampling"
   ]
  },
  {
   "cell_type": "markdown",
   "metadata": {},
   "source": [
    "## Logistic Regression"
   ]
  },
  {
   "cell_type": "code",
   "execution_count": 39,
   "metadata": {},
   "outputs": [],
   "source": [
    "from pyspark.ml import Pipeline\n",
    "from pyspark.ml.classification import LogisticRegression\n",
    "from pyspark.ml.evaluation import MulticlassClassificationEvaluator\n",
    "from pyspark.ml.feature import StringIndexer, VectorIndexer, VectorAssembler\n",
    "\n",
    "labelIndexer = StringIndexer(inputCol=\"label\", outputCol=\"indexedLabel\",  handleInvalid=\"skip\")\n",
    "protocol_typeIndexer = StringIndexer(inputCol=\"protocol_type\", outputCol=\"indexedProtocol_type\",  handleInvalid=\"skip\")\n",
    "serviceIndexer = StringIndexer(inputCol=\"service\", outputCol=\"indexedService\",  handleInvalid=\"skip\")\n",
    "flagIndexer = StringIndexer(inputCol=\"flag\", outputCol=\"indexedFlag\",  handleInvalid=\"skip\")\n",
    "\n",
    "featureAssembler = VectorAssembler(\n",
    "    inputCols=[\n",
    "        \"duration\",\n",
    "        \"indexedProtocol_type\",\n",
    "        \"indexedService\",\n",
    "        \"indexedFlag\",\n",
    "        \"src_bytes\",\n",
    "        \"dst_bytes\",\n",
    "        \"land\",\n",
    "        \"wrong_fragment\",\n",
    "        \"urgent\",\n",
    "        \"hot\",\n",
    "        \"num_failed_logins\",\n",
    "        \"logged_in\",\n",
    "        \"num_compromised\",\n",
    "        \"root_shell\",\n",
    "        \"su_attempted\",\n",
    "        \"num_root\",\n",
    "        \"num_file_creations\",\n",
    "        \"num_shells\",\n",
    "        \"num_access_files\",\n",
    "        \"num_outbound_cmds\",\n",
    "        \"is_host_login\",\n",
    "        \"is_guest_login\",\n",
    "        \"count\",\n",
    "        \"srv_count\",\n",
    "        \"serror_rate\",\n",
    "        \"srv_serror_rate\",\n",
    "        \"rerror_rate\",\n",
    "        \"srv_rerror_rate\",\n",
    "        \"same_srv_rate\",\n",
    "        \"diff_srv_rate\",\n",
    "        \"srv_diff_host_rate\",\n",
    "        \"dst_host_count\",\n",
    "        \"dst_host_srv_count\",\n",
    "        \"dst_host_same_srv_rate\",\n",
    "        \"dst_host_diff_srv_rate\",\n",
    "        \"dst_host_same_src_port_rate\",\n",
    "        \"dst_host_srv_diff_host_rate\",\n",
    "        \"dst_host_serror_rate\",\n",
    "        \"dst_host_srv_serror_rate\",\n",
    "        \"dst_host_rerror_rate\",\n",
    "        \"dst_host_srv_rerror_rate\"\n",
    "    ],\n",
    "    outputCol=\"features\"\n",
    ")\n",
    "\n",
    "\n",
    "# Train a Logistic Regression model.\n",
    "lr = LogisticRegression(labelCol=\"indexedLabel\", featuresCol=\"features\")\n",
    "\n",
    "# Chain indexers and model in a Pipeline\n",
    "pipeline = Pipeline(stages=[labelIndexer, protocol_typeIndexer, serviceIndexer, flagIndexer, featureAssembler, lr])\n",
    "\n",
    "# Train model.  This also runs the indexers.\n",
    "model_s_lr = pipeline.fit(oversampled_df)\n",
    "\n",
    "# Make predictions.\n",
    "predictions_s_lr = model_s_lr.transform(test_distinct_df)"
   ]
  },
  {
   "cell_type": "code",
   "execution_count": 40,
   "metadata": {},
   "outputs": [
    {
     "name": "stdout",
     "output_type": "stream",
     "text": [
      "LogisticRegressionModel: uid=LogisticRegression_fbc351a5b26e, numClasses=23, numFeatures=41\n"
     ]
    }
   ],
   "source": [
    "lr = model_s_lr.stages[-1]\n",
    "# summary only\n",
    "print(lr)"
   ]
  },
  {
   "cell_type": "code",
   "execution_count": 41,
   "metadata": {},
   "outputs": [],
   "source": [
    "# Select example rows to display.\n",
    "predictions_partial_s_lr = predictions_s_lr.select(\"label\", \"indexedLabel\", \"prediction\")\n"
   ]
  },
  {
   "cell_type": "code",
   "execution_count": 42,
   "metadata": {},
   "outputs": [
    {
     "name": "stdout",
     "output_type": "stream",
     "text": [
      "1\n"
     ]
    },
    {
     "data": {
      "text/plain": [
       "DataFrame[label: string, indexedLabel: double, prediction: double]"
      ]
     },
     "execution_count": 42,
     "metadata": {},
     "output_type": "execute_result"
    }
   ],
   "source": [
    "print(predictions_partial_s_lr.rdd.getNumPartitions())\n",
    "predictions_partial_s_lr.cache()"
   ]
  },
  {
   "cell_type": "code",
   "execution_count": 43,
   "metadata": {},
   "outputs": [
    {
     "data": {
      "text/plain": [
       "73266"
      ]
     },
     "execution_count": 43,
     "metadata": {},
     "output_type": "execute_result"
    }
   ],
   "source": [
    "predictions_partial_s_lr.count()"
   ]
  },
  {
   "cell_type": "code",
   "execution_count": 44,
   "metadata": {},
   "outputs": [
    {
     "name": "stdout",
     "output_type": "stream",
     "text": [
      "+---------------+-----+--------+------+\n",
      "|          label|total|corrects|errors|\n",
      "+---------------+-----+--------+------+\n",
      "|         normal|47910|   47141|   769|\n",
      "|        neptune|20332|   20299|    33|\n",
      "|   guess_passwd| 1302|      94|  1208|\n",
      "|    warezmaster| 1002|      13|   989|\n",
      "|          smurf|  936|     932|     4|\n",
      "|          satan|  860|     822|    38|\n",
      "|           back|  386|     280|   106|\n",
      "|      portsweep|  174|     165|     9|\n",
      "|        ipsweep|  155|     149|     6|\n",
      "|           nmap|   80|      78|     2|\n",
      "|            pod|   45|      42|     3|\n",
      "|buffer_overflow|   22|       3|    19|\n",
      "|       multihop|   18|       2|    16|\n",
      "|        rootkit|   13|       1|    12|\n",
      "|       teardrop|   12|      10|     2|\n",
      "|           land|    9|       9|     0|\n",
      "|      ftp_write|    3|       0|     3|\n",
      "|            phf|    2|       1|     1|\n",
      "|           perl|    2|       1|     1|\n",
      "|     loadmodule|    2|       0|     2|\n",
      "|           imap|    1|       0|     1|\n",
      "+---------------+-----+--------+------+\n",
      "\n"
     ]
    }
   ],
   "source": [
    "# Logistic Regression on dataset with resampling\n",
    "evaluate_model_ws(predictions_partial_s_lr)"
   ]
  },
  {
   "cell_type": "code",
   "execution_count": 45,
   "metadata": {},
   "outputs": [
    {
     "name": "stdout",
     "output_type": "stream",
     "text": [
      "F1 score: 0.9470151873532273\n"
     ]
    }
   ],
   "source": [
    "evaluator = MulticlassClassificationEvaluator(\n",
    "    labelCol=\"indexedLabel\", predictionCol=\"prediction\", metricName=\"f1\")\n",
    "f1_score = evaluator.evaluate(predictions_partial_s_lr)\n",
    "print(f\"F1 score: {f1_score}\")\n"
   ]
  },
  {
   "cell_type": "code",
   "execution_count": null,
   "metadata": {},
   "outputs": [],
   "source": []
  }
 ],
 "metadata": {
  "kernelspec": {
   "display_name": "Python 3",
   "language": "python",
   "name": "python3"
  },
  "language_info": {
   "codemirror_mode": {
    "name": "ipython",
    "version": 3
   },
   "file_extension": ".py",
   "mimetype": "text/x-python",
   "name": "python",
   "nbconvert_exporter": "python",
   "pygments_lexer": "ipython3",
   "version": "3.8.10"
  }
 },
 "nbformat": 4,
 "nbformat_minor": 4
}
